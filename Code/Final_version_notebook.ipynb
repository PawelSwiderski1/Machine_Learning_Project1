{
 "cells": [
  {
   "cell_type": "code",
   "execution_count": 18,
   "metadata": {
    "colab": {
     "base_uri": "https://localhost:8080/"
    },
    "executionInfo": {
     "elapsed": 6998,
     "status": "ok",
     "timestamp": 1681936609183,
     "user": {
      "displayName": "Paweł Świderski",
      "userId": "16606458260379333856"
     },
     "user_tz": -120
    },
    "id": "EAdjPzkKB_fz",
    "outputId": "aefa3ab5-e7ae-4d30-b46d-749c43a3b48e"
   },
   "outputs": [],
   "source": [
    "\n",
    "#!pip install fast_ml \n"
   ]
  },
  {
   "cell_type": "markdown",
   "metadata": {},
   "source": [
    "Pobieranie paczek"
   ]
  },
  {
   "cell_type": "code",
   "execution_count": 2,
   "metadata": {
    "id": "nZ5lMyv-z0dw"
   },
   "outputs": [],
   "source": [
    "import numpy as np\n",
    "import pandas as pd \n",
    "from sklearn.model_selection import train_test_split\n",
    "from fast_ml.utilities import display_all\n",
    "from fast_ml.feature_selection import get_duplicate_features\n",
    "import matplotlib.pyplot as plt\n",
    "import warnings\n",
    "warnings.filterwarnings('ignore')\n",
    "np.random.seed = 42\n",
    "from sklearn import preprocessing\n",
    "from fast_ml.feature_selection import get_constant_features\n",
    "from sklearn.feature_selection import RFE\n",
    "from sklearn.ensemble import RandomForestClassifier\n",
    "from sklearn.metrics import precision_score, accuracy_score, classification_report, roc_auc_score, f1_score\n",
    "from sklearn.model_selection import cross_val_score\n",
    "from sklearn.tree import DecisionTreeClassifier\n",
    "from xgboost import XGBClassifier, plot_importance\n",
    "from sklearn.naive_bayes import GaussianNB\n",
    "from sklearn.model_selection import RandomizedSearchCV, GridSearchCV\n"
   ]
  },
  {
   "cell_type": "markdown",
   "metadata": {},
   "source": [
    "Pobranie zbioru z danymi"
   ]
  },
  {
   "cell_type": "code",
   "execution_count": 7,
   "metadata": {
    "colab": {
     "base_uri": "https://localhost:8080/"
    },
    "executionInfo": {
     "elapsed": 2006,
     "status": "ok",
     "timestamp": 1681936613328,
     "user": {
      "displayName": "Paweł Świderski",
      "userId": "16606458260379333856"
     },
     "user_tz": -120
    },
    "id": "lrd28T-0z0dz",
    "outputId": "cbefe830-aa1e-457c-d2f6-eaffb23d362a"
   },
   "outputs": [
    {
     "name": "stdout",
     "output_type": "stream",
     "text": [
      "Rozmiar ramki:  (50000, 301)\n"
     ]
    }
   ],
   "source": [
    "df1 = pd.read_csv('dataset_1.csv')\n",
    "print(\"Rozmiar ramki: \", df1.shape)"
   ]
  },
  {
   "cell_type": "markdown",
   "metadata": {},
   "source": [
    "Sprawdźmy czy w ramce są wartości Null"
   ]
  },
  {
   "cell_type": "code",
   "execution_count": 6,
   "metadata": {},
   "outputs": [
    {
     "data": {
      "text/plain": [
       "0"
      ]
     },
     "execution_count": 6,
     "metadata": {},
     "output_type": "execute_result"
    }
   ],
   "source": [
    "df1.isnull().sum().sum()"
   ]
  },
  {
   "cell_type": "markdown",
   "metadata": {},
   "source": [
    "W ramce nie mamy żadnych wartości Null"
   ]
  },
  {
   "cell_type": "code",
   "execution_count": 11,
   "metadata": {},
   "outputs": [
    {
     "data": {
      "text/plain": [
       "array([dtype('int64'), dtype('float64')], dtype=object)"
      ]
     },
     "execution_count": 11,
     "metadata": {},
     "output_type": "execute_result"
    }
   ],
   "source": [
    "df1.dtypes.unique()"
   ]
  },
  {
   "cell_type": "markdown",
   "metadata": {},
   "source": [
    "W ramce mamy tylko wartości typu int oraz float"
   ]
  },
  {
   "cell_type": "markdown",
   "metadata": {},
   "source": [
    "Oddzielenie zmiennej przewidywanej 'target'"
   ]
  },
  {
   "cell_type": "code",
   "execution_count": 4,
   "metadata": {
    "id": "V2TxM7khfYvW"
   },
   "outputs": [],
   "source": [
    "y = np.array(df1['target'])\n",
    "X = df1.drop(['target'],axis=1)"
   ]
  },
  {
   "cell_type": "markdown",
   "metadata": {},
   "source": [
    "Sprawdźmy rozkład przewidywanej zmiennej 'target'"
   ]
  },
  {
   "cell_type": "code",
   "execution_count": 12,
   "metadata": {},
   "outputs": [
    {
     "name": "stdout",
     "output_type": "stream",
     "text": [
      "Rozkład w całej ramce:  {0: 48009, 1: 1991}\n"
     ]
    }
   ],
   "source": [
    "unique, counts = np.unique(y, return_counts=True)\n",
    "print(\"Rozkład w całej ramce: \", dict(zip(unique, counts)))"
   ]
  },
  {
   "cell_type": "markdown",
   "metadata": {},
   "source": [
    "Rozkład jest bardzo nie równy zatem przy dzieleniu na zbiory test, train i val użyjemy stratify"
   ]
  },
  {
   "cell_type": "markdown",
   "metadata": {
    "id": "NeidFPodkAto"
   },
   "source": [
    "Podział na zbiory test, train i val"
   ]
  },
  {
   "cell_type": "code",
   "execution_count": 4,
   "metadata": {
    "id": "wsU4jHNlk6M0"
   },
   "outputs": [],
   "source": [
    "X_train, X_val, y_train, y_val = train_test_split(\n",
    "    X, y, stratify=y, test_size=0.3, random_state=42\n",
    ")\n",
    "X_val, X_test, y_val, y_test = train_test_split(\n",
    "    X_val, y_val, stratify=y_val, test_size=0.3, random_state=42\n",
    ")"
   ]
  },
  {
   "cell_type": "code",
   "execution_count": 5,
   "metadata": {
    "colab": {
     "base_uri": "https://localhost:8080/"
    },
    "executionInfo": {
     "elapsed": 5,
     "status": "ok",
     "timestamp": 1681936613578,
     "user": {
      "displayName": "Paweł Świderski",
      "userId": "16606458260379333856"
     },
     "user_tz": -120
    },
    "id": "8dT3Vu6RHxFq",
    "outputId": "63b55195-bad4-4555-8085-411571299a89"
   },
   "outputs": [
    {
     "data": {
      "text/plain": [
       "(35000, 300)"
      ]
     },
     "execution_count": 5,
     "metadata": {},
     "output_type": "execute_result"
    }
   ],
   "source": [
    "X_train.shape"
   ]
  },
  {
   "cell_type": "markdown",
   "metadata": {
    "id": "PdAeVLEEf3LU"
   },
   "source": [
    "Tworzymy ramke, która jest kopią X_train, na której będziemy wykonywać różne procedury processingu danych."
   ]
  },
  {
   "cell_type": "code",
   "execution_count": 6,
   "metadata": {
    "id": "VAMss9RxFyBe"
   },
   "outputs": [],
   "source": [
    "X_train_processing = X_train.copy()"
   ]
  },
  {
   "cell_type": "markdown",
   "metadata": {
    "id": "oFFqDqq_gPyk"
   },
   "source": [
    "Zaczniemy od usunięcia kolumn ze stałymi wartościami"
   ]
  },
  {
   "cell_type": "code",
   "execution_count": 7,
   "metadata": {
    "id": "-gEzaR-6z0d5"
   },
   "outputs": [],
   "source": [
    "constant_features = get_constant_features(X_train_processing)"
   ]
  },
  {
   "cell_type": "code",
   "execution_count": 8,
   "metadata": {
    "colab": {
     "base_uri": "https://localhost:8080/"
    },
    "executionInfo": {
     "elapsed": 18,
     "status": "ok",
     "timestamp": 1681936614604,
     "user": {
      "displayName": "Paweł Świderski",
      "userId": "16606458260379333856"
     },
     "user_tz": -120
    },
    "id": "d9byrL_1UJQb",
    "outputId": "d4499504-c88b-4aa9-c85a-21adafcf44bd"
   },
   "outputs": [
    {
     "name": "stdout",
     "output_type": "stream",
     "text": [
      "['var_167', 'var_158', 'var_113', 'var_112', 'var_201', 'var_248', 'var_44', 'var_99', 'var_97', 'var_212', 'var_215', 'var_92', 'var_89', 'var_61', 'var_227', 'var_87', 'var_66', 'var_67', 'var_225', 'var_69', 'var_81', 'var_196', 'var_33', 'var_195', 'var_287', 'var_297', 'var_294', 'var_171', 'var_178', 'var_180', 'var_135', 'var_182', 'var_120', 'var_14', 'var_23', 'var_129', 'var_127', 'var_122', 'var_80']\n"
     ]
    }
   ],
   "source": [
    "constant_features_list = constant_features.query(\"Desc=='Constant'\")['Var'].to_list()\n",
    "print(constant_features_list)"
   ]
  },
  {
   "cell_type": "code",
   "execution_count": 9,
   "metadata": {
    "colab": {
     "base_uri": "https://localhost:8080/"
    },
    "executionInfo": {
     "elapsed": 11,
     "status": "ok",
     "timestamp": 1681936614604,
     "user": {
      "displayName": "Paweł Świderski",
      "userId": "16606458260379333856"
     },
     "user_tz": -120
    },
    "id": "IO0_Bim_UJQb",
    "outputId": "5cc64809-6110-4b5d-d53b-0067f0601f4c"
   },
   "outputs": [
    {
     "name": "stdout",
     "output_type": "stream",
     "text": [
      "Rozmiar ramki przed usunięciem stałych kolumn:  (35000, 300)\n",
      "Rozmiar ramki po usunięciu stałych kolumn:  (35000, 261)\n"
     ]
    }
   ],
   "source": [
    "print('Rozmiar ramki przed usunięciem stałych kolumn: ', X_train_processing.shape)\n",
    "X_train_processing.drop(columns = constant_features_list, inplace=True)\n",
    "print('Rozmiar ramki po usunięciu stałych kolumn: ', X_train_processing.shape)"
   ]
  },
  {
   "cell_type": "code",
   "execution_count": 10,
   "metadata": {
    "id": "a8osAG7Czm7z"
   },
   "outputs": [],
   "source": [
    "def drop_constant_features(df):\n",
    "  constant_features = get_constant_features(df)\n",
    "  constant_features_list = constant_features.query(\"Desc=='Constant'\")['Var'].to_list()\n",
    "  df.drop(columns = constant_features_list, inplace=True)\n",
    "  return df"
   ]
  },
  {
   "cell_type": "markdown",
   "metadata": {
    "id": "SFgNxl09ChzA"
   },
   "source": [
    "Zajmiemy się też usunięciem \"prawie stałych\" kolumn, ustawiony threshold jest na tyle wysoki, że usuwamy jedynie kolumny które mają dosłownie kilka odmiennych wartości. Małe ryzyko utraty informacji"
   ]
  },
  {
   "cell_type": "code",
   "execution_count": 11,
   "metadata": {
    "id": "feq0KLCVUJQc"
   },
   "outputs": [],
   "source": [
    "constant_features = get_constant_features(X_train_processing, threshold=0.9999, dropna=False)"
   ]
  },
  {
   "cell_type": "code",
   "execution_count": 12,
   "metadata": {
    "colab": {
     "base_uri": "https://localhost:8080/"
    },
    "executionInfo": {
     "elapsed": 9,
     "status": "ok",
     "timestamp": 1681936614606,
     "user": {
      "displayName": "Paweł Świderski",
      "userId": "16606458260379333856"
     },
     "user_tz": -120
    },
    "id": "6nTZYKWpUJQc",
    "outputId": "41da64e8-0266-4294-9ab0-a7ce803f3060"
   },
   "outputs": [
    {
     "name": "stdout",
     "output_type": "stream",
     "text": [
      "['var_2', 'var_36', 'var_133', 'var_124', 'var_104', 'var_73', 'var_223', 'var_170', 'var_183', 'var_34', 'var_234', 'var_243', 'var_247', 'var_280', 'var_283', 'var_233', 'var_217', 'var_210', 'var_285', 'var_189', 'var_187', 'var_228', 'var_150', 'var_153', 'var_151', 'var_10', 'var_11', 'var_12', 'var_28', 'var_65', 'var_72', 'var_111', 'var_141', 'var_6', 'var_71', 'var_116', 'var_265', 'var_9', 'var_7', 'var_289']\n"
     ]
    }
   ],
   "source": [
    "quasi_constant_features_list = constant_features.query(\"Desc=='Quasi Constant'\")['Var'].to_list()\n",
    "print(quasi_constant_features_list)"
   ]
  },
  {
   "cell_type": "markdown",
   "metadata": {
    "id": "a5tzARt4UJQd"
   },
   "source": [
    "Jak widać jest ich całkiem sporo"
   ]
  },
  {
   "cell_type": "code",
   "execution_count": 13,
   "metadata": {
    "colab": {
     "base_uri": "https://localhost:8080/"
    },
    "executionInfo": {
     "elapsed": 7,
     "status": "ok",
     "timestamp": 1681936614606,
     "user": {
      "displayName": "Paweł Świderski",
      "userId": "16606458260379333856"
     },
     "user_tz": -120
    },
    "id": "ftojSkL9UJQd",
    "outputId": "84467dfe-cd90-4978-d522-81f83e847212"
   },
   "outputs": [
    {
     "name": "stdout",
     "output_type": "stream",
     "text": [
      "Rozmiar ramki przed usunięciem \"prawie stałych\" kolumn:   (35000, 261)\n",
      "Rozmiar ramki po usunięciu \"prawie stałych\" kolumn:  (35000, 221)\n"
     ]
    }
   ],
   "source": [
    "print('Rozmiar ramki przed usunięciem \"prawie stałych\" kolumn:  ', X_train_processing.shape)\n",
    "X_train_processing.drop(columns = quasi_constant_features_list, inplace=True)\n",
    "print('Rozmiar ramki po usunięciu \"prawie stałych\" kolumn: ', X_train_processing.shape)"
   ]
  },
  {
   "cell_type": "code",
   "execution_count": 14,
   "metadata": {
    "id": "M6mSctXizprl"
   },
   "outputs": [],
   "source": [
    "def drop_quasi_constant_features(df):\n",
    "  quasi_constant_features = get_constant_features(X_train, threshold=0.9999, dropna=False)\n",
    "  quasi_constant_features_list = quasi_constant_features.query(\"Desc=='Quasi Constant'\")['Var'].to_list()\n",
    "  df.drop(columns = quasi_constant_features_list, inplace=True)\n",
    "  return df"
   ]
  },
  {
   "cell_type": "markdown",
   "metadata": {
    "id": "psYBuZ_4Cuu1"
   },
   "source": [
    "Usunięcie zduplikowanych kolumn"
   ]
  },
  {
   "cell_type": "code",
   "execution_count": 15,
   "metadata": {
    "id": "u2bVCZWlz0d4"
   },
   "outputs": [],
   "source": [
    "duplicate_features = get_duplicate_features(X_train_processing)"
   ]
  },
  {
   "cell_type": "code",
   "execution_count": 16,
   "metadata": {
    "colab": {
     "base_uri": "https://localhost:8080/"
    },
    "executionInfo": {
     "elapsed": 11,
     "status": "ok",
     "timestamp": 1681936672311,
     "user": {
      "displayName": "Paweł Świderski",
      "userId": "16606458260379333856"
     },
     "user_tz": -120
    },
    "id": "85fITyYpz0d4",
    "outputId": "45f5186c-0bbf-4a3c-97f0-1e1808ba9cbd"
   },
   "outputs": [
    {
     "name": "stdout",
     "output_type": "stream",
     "text": [
      "['var_239', 'var_148', 'var_269', 'var_232', 'var_106', 'var_216', 'var_263', 'var_250', 'var_199', 'var_296']\n"
     ]
    }
   ],
   "source": [
    "duplicate_features_list = duplicate_features.query(\"Desc=='Duplicate Values'\")['feature2'].to_list()\n",
    "print(duplicate_features_list)"
   ]
  },
  {
   "cell_type": "code",
   "execution_count": 17,
   "metadata": {
    "colab": {
     "base_uri": "https://localhost:8080/"
    },
    "executionInfo": {
     "elapsed": 7,
     "status": "ok",
     "timestamp": 1681936672312,
     "user": {
      "displayName": "Paweł Świderski",
      "userId": "16606458260379333856"
     },
     "user_tz": -120
    },
    "id": "d78f7inT9bHo",
    "outputId": "81502750-9c98-4ca7-b464-8d5f7b1a8d52"
   },
   "outputs": [
    {
     "name": "stdout",
     "output_type": "stream",
     "text": [
      "Rozmiar ramki przed usunięciem zduplikowanych kolumn:   (35000, 221)\n",
      "Rozmiar ramki po usunięciu zduplikowanych kolumn:  (35000, 211)\n"
     ]
    }
   ],
   "source": [
    "print('Rozmiar ramki przed usunięciem zduplikowanych kolumn:  ', X_train_processing.shape)\n",
    "X_train_processing.drop(columns = duplicate_features_list, inplace = True)\n",
    "print('Rozmiar ramki po usunięciu zduplikowanych kolumn: ', X_train_processing.shape)\n"
   ]
  },
  {
   "cell_type": "code",
   "execution_count": 18,
   "metadata": {
    "id": "MRKOzcuE0AKA"
   },
   "outputs": [],
   "source": [
    "def drop_duplicates(df):\n",
    "  duplicate_features = get_duplicate_features(df)\n",
    "  duplicate_features_list = duplicate_features.query(\"Desc=='Duplicate Values'\")['feature2'].to_list()\n",
    "  df.drop(columns = duplicate_features_list, inplace = True)\n",
    "  return df"
   ]
  },
  {
   "cell_type": "markdown",
   "metadata": {
    "id": "hlQ1qoSupU8R"
   },
   "source": [
    "Outliery"
   ]
  },
  {
   "cell_type": "code",
   "execution_count": 19,
   "metadata": {
    "colab": {
     "base_uri": "https://localhost:8080/"
    },
    "executionInfo": {
     "elapsed": 1381,
     "status": "ok",
     "timestamp": 1681936673690,
     "user": {
      "displayName": "Paweł Świderski",
      "userId": "16606458260379333856"
     },
     "user_tz": -120
    },
    "id": "uQX6R3zbrMGO",
    "outputId": "4fc29dfd-3234-4cac-d80a-ac9d7ea0c814"
   },
   "outputs": [
    {
     "name": "stdout",
     "output_type": "stream",
     "text": [
      "var_1        16\n",
      "var_2         1\n",
      "var_3        16\n",
      "var_4      2863\n",
      "var_5       193\n",
      "           ... \n",
      "var_296     841\n",
      "var_297       0\n",
      "var_298      63\n",
      "var_299      25\n",
      "var_300    1341\n",
      "Length: 300, dtype: int64\n",
      "W sumie wszystkich outlierów jest:  326676\n"
     ]
    }
   ],
   "source": [
    "Q1 = X_train.quantile(0.25)\n",
    "Q3 = X_train.quantile(0.75)\n",
    "IQR = Q3 - Q1\n",
    "print(((X_train < (Q1 - 1.5 * IQR)) | (X_train > (Q3 + 1.5 * IQR))).sum())\n",
    "print(\"W sumie wszystkich outlierów jest: \", ((X_train < (Q1 - 1.5 * IQR)) | (X_train > (Q3 + 1.5 * IQR))).sum().sum())"
   ]
  },
  {
   "cell_type": "markdown",
   "metadata": {
    "id": "fLSRZLetrMyy"
   },
   "source": [
    "Spróbujemy dobrać inne granice klasyfikacji outlierów i zobaczyć czy nadal jest ich tak dużo. Zmieńmy współczynnik przy IQR nas 2.5"
   ]
  },
  {
   "cell_type": "code",
   "execution_count": 38,
   "metadata": {
    "colab": {
     "base_uri": "https://localhost:8080/"
    },
    "executionInfo": {
     "elapsed": 1193,
     "status": "ok",
     "timestamp": 1681936674881,
     "user": {
      "displayName": "Paweł Świderski",
      "userId": "16606458260379333856"
     },
     "user_tz": -120
    },
    "id": "zVmpTJJOrQCd",
    "outputId": "f98beccd-cffd-425b-8bf4-478e67a3a15f"
   },
   "outputs": [
    {
     "name": "stdout",
     "output_type": "stream",
     "text": [
      "var_1        16\n",
      "var_2         1\n",
      "var_3        16\n",
      "var_4       775\n",
      "var_5       193\n",
      "           ... \n",
      "var_296     841\n",
      "var_297       0\n",
      "var_298      63\n",
      "var_299      25\n",
      "var_300    1341\n",
      "Length: 300, dtype: int64\n",
      "W sumie wszystkich outlierów jest:  309035\n"
     ]
    }
   ],
   "source": [
    "Q1 = X_train.quantile(0.25)\n",
    "Q3 = X_train.quantile(0.75)\n",
    "IQR = Q3 - Q1\n",
    "print(((X_train < (Q1 - 2.5 * IQR)) | (X_train > (Q3 + 2.5 * IQR))).sum())\n",
    "print(\"W sumie wszystkich outlierów jest: \", ((X_train < (Q1 - 2.5 * IQR)) | (X_train > (Q3 + 2.5 * IQR))).sum().sum())"
   ]
  },
  {
   "cell_type": "markdown",
   "metadata": {
    "id": "m5frMC27UJQh"
   },
   "source": [
    "Nadal outlierów jest bardzo dużo, dlatego usuwanie nie wchodzi w grę. Zatem zaminimy dolny oraz górny centyl wartości medianą"
   ]
  },
  {
   "cell_type": "code",
   "execution_count": 20,
   "metadata": {},
   "outputs": [],
   "source": [
    "def replace_numerical_outliers(df, z_thresh=3):\n",
    "    for col in df:\n",
    "        median = df[col].median()\n",
    "        outliers = (df[col] > df[col].quantile(.99)) | (df[col] < df[col].quantile(.01))\n",
    "        df[col][outliers]=np.nan\n",
    "        df.replace({np.nan:median}, inplace=True)\n",
    "    return df"
   ]
  },
  {
   "cell_type": "code",
   "execution_count": 21,
   "metadata": {},
   "outputs": [
    {
     "data": {
      "text/html": [
       "<div>\n",
       "<style scoped>\n",
       "    .dataframe tbody tr th:only-of-type {\n",
       "        vertical-align: middle;\n",
       "    }\n",
       "\n",
       "    .dataframe tbody tr th {\n",
       "        vertical-align: top;\n",
       "    }\n",
       "\n",
       "    .dataframe thead th {\n",
       "        text-align: right;\n",
       "    }\n",
       "</style>\n",
       "<table border=\"1\" class=\"dataframe\">\n",
       "  <thead>\n",
       "    <tr style=\"text-align: right;\">\n",
       "      <th></th>\n",
       "      <th>var_1</th>\n",
       "      <th>var_3</th>\n",
       "      <th>var_4</th>\n",
       "      <th>var_5</th>\n",
       "      <th>var_8</th>\n",
       "      <th>var_13</th>\n",
       "      <th>var_15</th>\n",
       "      <th>var_16</th>\n",
       "      <th>var_17</th>\n",
       "      <th>var_18</th>\n",
       "      <th>...</th>\n",
       "      <th>var_286</th>\n",
       "      <th>var_288</th>\n",
       "      <th>var_290</th>\n",
       "      <th>var_291</th>\n",
       "      <th>var_292</th>\n",
       "      <th>var_293</th>\n",
       "      <th>var_295</th>\n",
       "      <th>var_298</th>\n",
       "      <th>var_299</th>\n",
       "      <th>var_300</th>\n",
       "    </tr>\n",
       "  </thead>\n",
       "  <tbody>\n",
       "    <tr>\n",
       "      <th>13889</th>\n",
       "      <td>0.0</td>\n",
       "      <td>0.0</td>\n",
       "      <td>2.88</td>\n",
       "      <td>0.0</td>\n",
       "      <td>0</td>\n",
       "      <td>0.0</td>\n",
       "      <td>3.0</td>\n",
       "      <td>0.0</td>\n",
       "      <td>0.00</td>\n",
       "      <td>0.0</td>\n",
       "      <td>...</td>\n",
       "      <td>0.0</td>\n",
       "      <td>0.0</td>\n",
       "      <td>0.0</td>\n",
       "      <td>0.0</td>\n",
       "      <td>0.0</td>\n",
       "      <td>0.0</td>\n",
       "      <td>0.0</td>\n",
       "      <td>0.0</td>\n",
       "      <td>0.0</td>\n",
       "      <td>0.00</td>\n",
       "    </tr>\n",
       "    <tr>\n",
       "      <th>18173</th>\n",
       "      <td>0.0</td>\n",
       "      <td>0.0</td>\n",
       "      <td>2.91</td>\n",
       "      <td>0.0</td>\n",
       "      <td>0</td>\n",
       "      <td>0.0</td>\n",
       "      <td>3.0</td>\n",
       "      <td>0.0</td>\n",
       "      <td>0.00</td>\n",
       "      <td>0.0</td>\n",
       "      <td>...</td>\n",
       "      <td>0.0</td>\n",
       "      <td>0.0</td>\n",
       "      <td>0.0</td>\n",
       "      <td>0.0</td>\n",
       "      <td>0.0</td>\n",
       "      <td>0.0</td>\n",
       "      <td>0.0</td>\n",
       "      <td>0.0</td>\n",
       "      <td>0.0</td>\n",
       "      <td>0.00</td>\n",
       "    </tr>\n",
       "    <tr>\n",
       "      <th>11779</th>\n",
       "      <td>0.0</td>\n",
       "      <td>0.0</td>\n",
       "      <td>2.82</td>\n",
       "      <td>0.0</td>\n",
       "      <td>0</td>\n",
       "      <td>0.0</td>\n",
       "      <td>3.0</td>\n",
       "      <td>0.0</td>\n",
       "      <td>14.25</td>\n",
       "      <td>0.0</td>\n",
       "      <td>...</td>\n",
       "      <td>0.0</td>\n",
       "      <td>0.0</td>\n",
       "      <td>0.0</td>\n",
       "      <td>0.0</td>\n",
       "      <td>0.0</td>\n",
       "      <td>0.0</td>\n",
       "      <td>0.0</td>\n",
       "      <td>0.0</td>\n",
       "      <td>0.0</td>\n",
       "      <td>0.00</td>\n",
       "    </tr>\n",
       "    <tr>\n",
       "      <th>28068</th>\n",
       "      <td>0.0</td>\n",
       "      <td>0.0</td>\n",
       "      <td>5.82</td>\n",
       "      <td>0.0</td>\n",
       "      <td>0</td>\n",
       "      <td>0.0</td>\n",
       "      <td>3.0</td>\n",
       "      <td>0.0</td>\n",
       "      <td>0.00</td>\n",
       "      <td>0.0</td>\n",
       "      <td>...</td>\n",
       "      <td>0.0</td>\n",
       "      <td>0.0</td>\n",
       "      <td>0.0</td>\n",
       "      <td>0.0</td>\n",
       "      <td>0.0</td>\n",
       "      <td>0.0</td>\n",
       "      <td>0.0</td>\n",
       "      <td>0.0</td>\n",
       "      <td>0.0</td>\n",
       "      <td>0.00</td>\n",
       "    </tr>\n",
       "    <tr>\n",
       "      <th>26232</th>\n",
       "      <td>0.0</td>\n",
       "      <td>0.0</td>\n",
       "      <td>0.00</td>\n",
       "      <td>0.0</td>\n",
       "      <td>0</td>\n",
       "      <td>0.0</td>\n",
       "      <td>0.0</td>\n",
       "      <td>0.0</td>\n",
       "      <td>0.00</td>\n",
       "      <td>0.0</td>\n",
       "      <td>...</td>\n",
       "      <td>0.0</td>\n",
       "      <td>0.0</td>\n",
       "      <td>0.0</td>\n",
       "      <td>0.0</td>\n",
       "      <td>0.0</td>\n",
       "      <td>0.0</td>\n",
       "      <td>0.0</td>\n",
       "      <td>0.0</td>\n",
       "      <td>0.0</td>\n",
       "      <td>0.00</td>\n",
       "    </tr>\n",
       "    <tr>\n",
       "      <th>...</th>\n",
       "      <td>...</td>\n",
       "      <td>...</td>\n",
       "      <td>...</td>\n",
       "      <td>...</td>\n",
       "      <td>...</td>\n",
       "      <td>...</td>\n",
       "      <td>...</td>\n",
       "      <td>...</td>\n",
       "      <td>...</td>\n",
       "      <td>...</td>\n",
       "      <td>...</td>\n",
       "      <td>...</td>\n",
       "      <td>...</td>\n",
       "      <td>...</td>\n",
       "      <td>...</td>\n",
       "      <td>...</td>\n",
       "      <td>...</td>\n",
       "      <td>...</td>\n",
       "      <td>...</td>\n",
       "      <td>...</td>\n",
       "      <td>...</td>\n",
       "    </tr>\n",
       "    <tr>\n",
       "      <th>28062</th>\n",
       "      <td>0.0</td>\n",
       "      <td>0.0</td>\n",
       "      <td>11.04</td>\n",
       "      <td>0.0</td>\n",
       "      <td>0</td>\n",
       "      <td>0.0</td>\n",
       "      <td>0.0</td>\n",
       "      <td>0.0</td>\n",
       "      <td>5.82</td>\n",
       "      <td>0.0</td>\n",
       "      <td>...</td>\n",
       "      <td>0.0</td>\n",
       "      <td>0.0</td>\n",
       "      <td>0.0</td>\n",
       "      <td>0.0</td>\n",
       "      <td>0.0</td>\n",
       "      <td>0.0</td>\n",
       "      <td>0.0</td>\n",
       "      <td>0.0</td>\n",
       "      <td>0.0</td>\n",
       "      <td>0.00</td>\n",
       "    </tr>\n",
       "    <tr>\n",
       "      <th>44991</th>\n",
       "      <td>0.0</td>\n",
       "      <td>0.0</td>\n",
       "      <td>5.70</td>\n",
       "      <td>0.0</td>\n",
       "      <td>0</td>\n",
       "      <td>0.0</td>\n",
       "      <td>3.0</td>\n",
       "      <td>0.0</td>\n",
       "      <td>0.00</td>\n",
       "      <td>0.0</td>\n",
       "      <td>...</td>\n",
       "      <td>0.0</td>\n",
       "      <td>0.0</td>\n",
       "      <td>0.0</td>\n",
       "      <td>0.0</td>\n",
       "      <td>0.0</td>\n",
       "      <td>0.0</td>\n",
       "      <td>0.0</td>\n",
       "      <td>0.0</td>\n",
       "      <td>0.0</td>\n",
       "      <td>0.00</td>\n",
       "    </tr>\n",
       "    <tr>\n",
       "      <th>42528</th>\n",
       "      <td>0.0</td>\n",
       "      <td>0.0</td>\n",
       "      <td>0.00</td>\n",
       "      <td>0.0</td>\n",
       "      <td>0</td>\n",
       "      <td>0.0</td>\n",
       "      <td>0.0</td>\n",
       "      <td>0.0</td>\n",
       "      <td>5.82</td>\n",
       "      <td>0.0</td>\n",
       "      <td>...</td>\n",
       "      <td>0.0</td>\n",
       "      <td>0.0</td>\n",
       "      <td>0.0</td>\n",
       "      <td>0.0</td>\n",
       "      <td>0.0</td>\n",
       "      <td>0.0</td>\n",
       "      <td>0.0</td>\n",
       "      <td>0.0</td>\n",
       "      <td>0.0</td>\n",
       "      <td>0.00</td>\n",
       "    </tr>\n",
       "    <tr>\n",
       "      <th>31683</th>\n",
       "      <td>0.0</td>\n",
       "      <td>0.0</td>\n",
       "      <td>8.73</td>\n",
       "      <td>0.0</td>\n",
       "      <td>0</td>\n",
       "      <td>0.0</td>\n",
       "      <td>3.0</td>\n",
       "      <td>0.0</td>\n",
       "      <td>0.00</td>\n",
       "      <td>0.0</td>\n",
       "      <td>...</td>\n",
       "      <td>0.0</td>\n",
       "      <td>0.0</td>\n",
       "      <td>0.0</td>\n",
       "      <td>0.0</td>\n",
       "      <td>0.0</td>\n",
       "      <td>0.0</td>\n",
       "      <td>3.0</td>\n",
       "      <td>0.0</td>\n",
       "      <td>0.0</td>\n",
       "      <td>891.36</td>\n",
       "    </tr>\n",
       "    <tr>\n",
       "      <th>47738</th>\n",
       "      <td>0.0</td>\n",
       "      <td>0.0</td>\n",
       "      <td>2.82</td>\n",
       "      <td>0.0</td>\n",
       "      <td>0</td>\n",
       "      <td>0.0</td>\n",
       "      <td>3.0</td>\n",
       "      <td>0.0</td>\n",
       "      <td>0.00</td>\n",
       "      <td>0.0</td>\n",
       "      <td>...</td>\n",
       "      <td>0.0</td>\n",
       "      <td>0.0</td>\n",
       "      <td>0.0</td>\n",
       "      <td>0.0</td>\n",
       "      <td>0.0</td>\n",
       "      <td>0.0</td>\n",
       "      <td>0.0</td>\n",
       "      <td>0.0</td>\n",
       "      <td>0.0</td>\n",
       "      <td>0.00</td>\n",
       "    </tr>\n",
       "  </tbody>\n",
       "</table>\n",
       "<p>35000 rows × 211 columns</p>\n",
       "</div>"
      ],
      "text/plain": [
       "       var_1  var_3  var_4  var_5  var_8  var_13  var_15  var_16  var_17  \\\n",
       "13889    0.0    0.0   2.88    0.0      0     0.0     3.0     0.0    0.00   \n",
       "18173    0.0    0.0   2.91    0.0      0     0.0     3.0     0.0    0.00   \n",
       "11779    0.0    0.0   2.82    0.0      0     0.0     3.0     0.0   14.25   \n",
       "28068    0.0    0.0   5.82    0.0      0     0.0     3.0     0.0    0.00   \n",
       "26232    0.0    0.0   0.00    0.0      0     0.0     0.0     0.0    0.00   \n",
       "...      ...    ...    ...    ...    ...     ...     ...     ...     ...   \n",
       "28062    0.0    0.0  11.04    0.0      0     0.0     0.0     0.0    5.82   \n",
       "44991    0.0    0.0   5.70    0.0      0     0.0     3.0     0.0    0.00   \n",
       "42528    0.0    0.0   0.00    0.0      0     0.0     0.0     0.0    5.82   \n",
       "31683    0.0    0.0   8.73    0.0      0     0.0     3.0     0.0    0.00   \n",
       "47738    0.0    0.0   2.82    0.0      0     0.0     3.0     0.0    0.00   \n",
       "\n",
       "       var_18  ...  var_286  var_288  var_290  var_291  var_292  var_293  \\\n",
       "13889     0.0  ...      0.0      0.0      0.0      0.0      0.0      0.0   \n",
       "18173     0.0  ...      0.0      0.0      0.0      0.0      0.0      0.0   \n",
       "11779     0.0  ...      0.0      0.0      0.0      0.0      0.0      0.0   \n",
       "28068     0.0  ...      0.0      0.0      0.0      0.0      0.0      0.0   \n",
       "26232     0.0  ...      0.0      0.0      0.0      0.0      0.0      0.0   \n",
       "...       ...  ...      ...      ...      ...      ...      ...      ...   \n",
       "28062     0.0  ...      0.0      0.0      0.0      0.0      0.0      0.0   \n",
       "44991     0.0  ...      0.0      0.0      0.0      0.0      0.0      0.0   \n",
       "42528     0.0  ...      0.0      0.0      0.0      0.0      0.0      0.0   \n",
       "31683     0.0  ...      0.0      0.0      0.0      0.0      0.0      0.0   \n",
       "47738     0.0  ...      0.0      0.0      0.0      0.0      0.0      0.0   \n",
       "\n",
       "       var_295  var_298  var_299  var_300  \n",
       "13889      0.0      0.0      0.0     0.00  \n",
       "18173      0.0      0.0      0.0     0.00  \n",
       "11779      0.0      0.0      0.0     0.00  \n",
       "28068      0.0      0.0      0.0     0.00  \n",
       "26232      0.0      0.0      0.0     0.00  \n",
       "...        ...      ...      ...      ...  \n",
       "28062      0.0      0.0      0.0     0.00  \n",
       "44991      0.0      0.0      0.0     0.00  \n",
       "42528      0.0      0.0      0.0     0.00  \n",
       "31683      3.0      0.0      0.0   891.36  \n",
       "47738      0.0      0.0      0.0     0.00  \n",
       "\n",
       "[35000 rows x 211 columns]"
      ]
     },
     "execution_count": 21,
     "metadata": {},
     "output_type": "execute_result"
    }
   ],
   "source": [
    "X_train_processing = replace_numerical_outliers(X_train_processing)\n",
    "X_train_processing"
   ]
  },
  {
   "cell_type": "markdown",
   "metadata": {},
   "source": [
    "Po zamianie na medianę powstało dużo nowych kolumn, które mają same zera. Jeszcze raz zatem usuniemy stałe kolumny."
   ]
  },
  {
   "cell_type": "code",
   "execution_count": 22,
   "metadata": {},
   "outputs": [
    {
     "name": "stdout",
     "output_type": "stream",
     "text": [
      "Rozmiar ramki przed usunięciem stałych kolumn:  (35000, 211)\n",
      "Rozmiar ramki po usunięciu stałych kolumn:  (35000, 121)\n"
     ]
    }
   ],
   "source": [
    "print('Rozmiar ramki przed usunięciem stałych kolumn: ', X_train_processing.shape)\n",
    "X_train_processing = drop_constant_features(X_train_processing)\n",
    "print('Rozmiar ramki po usunięciu stałych kolumn: ', X_train_processing.shape)"
   ]
  },
  {
   "cell_type": "markdown",
   "metadata": {
    "id": "peROdNhbnv3S"
   },
   "source": [
    "Przejdziemy teraz do metod dalszego usuwania kolumn"
   ]
  },
  {
   "cell_type": "markdown",
   "metadata": {
    "id": "cKq3jWwIth81"
   },
   "source": [
    "Usuwanie (jednej z) kolumn, których współczynnik korelacji spearmana jest większy niż 0.9"
   ]
  },
  {
   "cell_type": "code",
   "execution_count": 23,
   "metadata": {},
   "outputs": [],
   "source": [
    "def correlation_drop(df):\n",
    "  corr_matrix = df.corr('spearman')\n",
    "\n",
    "  n = df.shape[1]\n",
    "  threshold = 0.90\n",
    "  var_to_drop = []\n",
    "  for j in range(n):\n",
    "    for i in range(j):\n",
    "      if corr_matrix.iloc[i][j] >= threshold:\n",
    "        var_to_drop.append(corr_matrix.index[i])\n",
    "  \n",
    "  var_to_drop = set(var_to_drop)\n",
    "  var_to_drop = list(var_to_drop)\n",
    "  print(\"liczba kolumn które usuwamy:\" ,len(var_to_drop))\n",
    "  print(\"lista kolumn, które usuwamy:\", var_to_drop)\n",
    "\n",
    "  df = df.drop(var_to_drop, axis = 1)\n",
    "  return df"
   ]
  },
  {
   "cell_type": "code",
   "execution_count": 24,
   "metadata": {
    "colab": {
     "base_uri": "https://localhost:8080/"
    },
    "executionInfo": {
     "elapsed": 8,
     "status": "ok",
     "timestamp": 1681936691436,
     "user": {
      "displayName": "Paweł Świderski",
      "userId": "16606458260379333856"
     },
     "user_tz": -120
    },
    "id": "kwP3t9DuuZVz",
    "outputId": "6fa35437-0b58-4b2c-8022-8e3950d311c0"
   },
   "outputs": [
    {
     "name": "stdout",
     "output_type": "stream",
     "text": [
      "liczba kolumn które usuwamy: 53\n",
      "lista kolumn, które usuwamy: ['var_18', 'var_140', 'var_31', 'var_47', 'var_82', 'var_38', 'var_8', 'var_21', 'var_105', 'var_96', 'var_37', 'var_186', 'var_144', 'var_70', 'var_109', 'var_118', 'var_62', 'var_100', 'var_152', 'var_57', 'var_30', 'var_226', 'var_284', 'var_103', 'var_51', 'var_41', 'var_4', 'var_155', 'var_123', 'var_168', 'var_131', 'var_93', 'var_175', 'var_220', 'var_55', 'var_206', 'var_83', 'var_117', 'var_121', 'var_88', 'var_143', 'var_229', 'var_176', 'var_166', 'var_58', 'var_162', 'var_91', 'var_174', 'var_164', 'var_52', 'var_19', 'var_203', 'var_160']\n"
     ]
    },
    {
     "data": {
      "text/html": [
       "<div>\n",
       "<style scoped>\n",
       "    .dataframe tbody tr th:only-of-type {\n",
       "        vertical-align: middle;\n",
       "    }\n",
       "\n",
       "    .dataframe tbody tr th {\n",
       "        vertical-align: top;\n",
       "    }\n",
       "\n",
       "    .dataframe thead th {\n",
       "        text-align: right;\n",
       "    }\n",
       "</style>\n",
       "<table border=\"1\" class=\"dataframe\">\n",
       "  <thead>\n",
       "    <tr style=\"text-align: right;\">\n",
       "      <th></th>\n",
       "      <th>var_15</th>\n",
       "      <th>var_17</th>\n",
       "      <th>var_29</th>\n",
       "      <th>var_35</th>\n",
       "      <th>var_46</th>\n",
       "      <th>var_49</th>\n",
       "      <th>var_50</th>\n",
       "      <th>var_54</th>\n",
       "      <th>var_64</th>\n",
       "      <th>var_74</th>\n",
       "      <th>...</th>\n",
       "      <th>var_272</th>\n",
       "      <th>var_275</th>\n",
       "      <th>var_276</th>\n",
       "      <th>var_277</th>\n",
       "      <th>var_279</th>\n",
       "      <th>var_281</th>\n",
       "      <th>var_288</th>\n",
       "      <th>var_292</th>\n",
       "      <th>var_295</th>\n",
       "      <th>var_300</th>\n",
       "    </tr>\n",
       "  </thead>\n",
       "  <tbody>\n",
       "    <tr>\n",
       "      <th>count</th>\n",
       "      <td>35000.000000</td>\n",
       "      <td>35000.000000</td>\n",
       "      <td>35000.000000</td>\n",
       "      <td>35000.000000</td>\n",
       "      <td>35000.000000</td>\n",
       "      <td>35000.000000</td>\n",
       "      <td>35000.000000</td>\n",
       "      <td>35000.000000</td>\n",
       "      <td>35000.000000</td>\n",
       "      <td>35000.000000</td>\n",
       "      <td>...</td>\n",
       "      <td>35000.000000</td>\n",
       "      <td>35000.000000</td>\n",
       "      <td>35000.000000</td>\n",
       "      <td>35000.000000</td>\n",
       "      <td>35000.000000</td>\n",
       "      <td>35000.000000</td>\n",
       "      <td>35000.000000</td>\n",
       "      <td>35000.000000</td>\n",
       "      <td>35000.000000</td>\n",
       "      <td>35000.000000</td>\n",
       "    </tr>\n",
       "    <tr>\n",
       "      <th>mean</th>\n",
       "      <td>1.993971</td>\n",
       "      <td>0.961346</td>\n",
       "      <td>1.955717</td>\n",
       "      <td>8995.286265</td>\n",
       "      <td>104663.119482</td>\n",
       "      <td>40.164371</td>\n",
       "      <td>3.067719</td>\n",
       "      <td>0.010429</td>\n",
       "      <td>1713.967004</td>\n",
       "      <td>1.590886</td>\n",
       "      <td>...</td>\n",
       "      <td>0.792747</td>\n",
       "      <td>0.024971</td>\n",
       "      <td>82.269169</td>\n",
       "      <td>1.432810</td>\n",
       "      <td>2.014221</td>\n",
       "      <td>0.011086</td>\n",
       "      <td>0.035178</td>\n",
       "      <td>0.008306</td>\n",
       "      <td>0.127714</td>\n",
       "      <td>2046.161966</td>\n",
       "    </tr>\n",
       "    <tr>\n",
       "      <th>std</th>\n",
       "      <td>1.416351</td>\n",
       "      <td>2.467787</td>\n",
       "      <td>0.510095</td>\n",
       "      <td>35907.614867</td>\n",
       "      <td>56806.301485</td>\n",
       "      <td>47.282043</td>\n",
       "      <td>6.771094</td>\n",
       "      <td>0.101588</td>\n",
       "      <td>11541.361699</td>\n",
       "      <td>0.711526</td>\n",
       "      <td>...</td>\n",
       "      <td>3.003194</td>\n",
       "      <td>0.156040</td>\n",
       "      <td>522.019328</td>\n",
       "      <td>5.234437</td>\n",
       "      <td>6.866269</td>\n",
       "      <td>0.104705</td>\n",
       "      <td>0.314429</td>\n",
       "      <td>0.152159</td>\n",
       "      <td>0.605675</td>\n",
       "      <td>15078.432648</td>\n",
       "    </tr>\n",
       "    <tr>\n",
       "      <th>min</th>\n",
       "      <td>0.000000</td>\n",
       "      <td>0.000000</td>\n",
       "      <td>1.820000</td>\n",
       "      <td>0.000000</td>\n",
       "      <td>24784.964400</td>\n",
       "      <td>1.000000</td>\n",
       "      <td>0.000000</td>\n",
       "      <td>0.000000</td>\n",
       "      <td>0.000000</td>\n",
       "      <td>0.000000</td>\n",
       "      <td>...</td>\n",
       "      <td>0.000000</td>\n",
       "      <td>0.000000</td>\n",
       "      <td>0.000000</td>\n",
       "      <td>0.000000</td>\n",
       "      <td>0.000000</td>\n",
       "      <td>0.000000</td>\n",
       "      <td>0.000000</td>\n",
       "      <td>0.000000</td>\n",
       "      <td>0.000000</td>\n",
       "      <td>0.000000</td>\n",
       "    </tr>\n",
       "    <tr>\n",
       "      <th>25%</th>\n",
       "      <td>0.000000</td>\n",
       "      <td>0.000000</td>\n",
       "      <td>1.860000</td>\n",
       "      <td>0.000000</td>\n",
       "      <td>66240.978300</td>\n",
       "      <td>2.000000</td>\n",
       "      <td>0.000000</td>\n",
       "      <td>0.000000</td>\n",
       "      <td>0.000000</td>\n",
       "      <td>1.000000</td>\n",
       "      <td>...</td>\n",
       "      <td>0.000000</td>\n",
       "      <td>0.000000</td>\n",
       "      <td>0.000000</td>\n",
       "      <td>0.000000</td>\n",
       "      <td>0.000000</td>\n",
       "      <td>0.000000</td>\n",
       "      <td>0.000000</td>\n",
       "      <td>0.000000</td>\n",
       "      <td>0.000000</td>\n",
       "      <td>0.000000</td>\n",
       "    </tr>\n",
       "    <tr>\n",
       "      <th>50%</th>\n",
       "      <td>3.000000</td>\n",
       "      <td>0.000000</td>\n",
       "      <td>1.920000</td>\n",
       "      <td>3.000000</td>\n",
       "      <td>101680.519800</td>\n",
       "      <td>3.000000</td>\n",
       "      <td>0.000000</td>\n",
       "      <td>0.000000</td>\n",
       "      <td>0.000000</td>\n",
       "      <td>2.000000</td>\n",
       "      <td>...</td>\n",
       "      <td>0.000000</td>\n",
       "      <td>0.000000</td>\n",
       "      <td>0.000000</td>\n",
       "      <td>0.000000</td>\n",
       "      <td>0.000000</td>\n",
       "      <td>0.000000</td>\n",
       "      <td>0.000000</td>\n",
       "      <td>0.000000</td>\n",
       "      <td>0.000000</td>\n",
       "      <td>0.000000</td>\n",
       "    </tr>\n",
       "    <tr>\n",
       "      <th>75%</th>\n",
       "      <td>3.000000</td>\n",
       "      <td>0.000000</td>\n",
       "      <td>1.960000</td>\n",
       "      <td>159.297900</td>\n",
       "      <td>116137.869226</td>\n",
       "      <td>99.000000</td>\n",
       "      <td>2.880000</td>\n",
       "      <td>0.000000</td>\n",
       "      <td>0.000000</td>\n",
       "      <td>2.000000</td>\n",
       "      <td>...</td>\n",
       "      <td>0.000000</td>\n",
       "      <td>0.000000</td>\n",
       "      <td>0.000000</td>\n",
       "      <td>0.000000</td>\n",
       "      <td>0.000000</td>\n",
       "      <td>0.000000</td>\n",
       "      <td>0.000000</td>\n",
       "      <td>0.000000</td>\n",
       "      <td>0.000000</td>\n",
       "      <td>0.000000</td>\n",
       "    </tr>\n",
       "    <tr>\n",
       "      <th>max</th>\n",
       "      <td>3.000000</td>\n",
       "      <td>14.850000</td>\n",
       "      <td>10.670000</td>\n",
       "      <td>285773.062500</td>\n",
       "      <td>429816.927000</td>\n",
       "      <td>99.000000</td>\n",
       "      <td>47.520000</td>\n",
       "      <td>1.000000</td>\n",
       "      <td>137496.787200</td>\n",
       "      <td>2.000000</td>\n",
       "      <td>...</td>\n",
       "      <td>25.920000</td>\n",
       "      <td>1.000000</td>\n",
       "      <td>7948.800000</td>\n",
       "      <td>43.200000</td>\n",
       "      <td>53.010000</td>\n",
       "      <td>1.000000</td>\n",
       "      <td>2.970000</td>\n",
       "      <td>2.850000</td>\n",
       "      <td>3.000000</td>\n",
       "      <td>193611.974400</td>\n",
       "    </tr>\n",
       "  </tbody>\n",
       "</table>\n",
       "<p>8 rows × 68 columns</p>\n",
       "</div>"
      ],
      "text/plain": [
       "             var_15        var_17        var_29         var_35         var_46  \\\n",
       "count  35000.000000  35000.000000  35000.000000   35000.000000   35000.000000   \n",
       "mean       1.993971      0.961346      1.955717    8995.286265  104663.119482   \n",
       "std        1.416351      2.467787      0.510095   35907.614867   56806.301485   \n",
       "min        0.000000      0.000000      1.820000       0.000000   24784.964400   \n",
       "25%        0.000000      0.000000      1.860000       0.000000   66240.978300   \n",
       "50%        3.000000      0.000000      1.920000       3.000000  101680.519800   \n",
       "75%        3.000000      0.000000      1.960000     159.297900  116137.869226   \n",
       "max        3.000000     14.850000     10.670000  285773.062500  429816.927000   \n",
       "\n",
       "             var_49        var_50        var_54         var_64        var_74  \\\n",
       "count  35000.000000  35000.000000  35000.000000   35000.000000  35000.000000   \n",
       "mean      40.164371      3.067719      0.010429    1713.967004      1.590886   \n",
       "std       47.282043      6.771094      0.101588   11541.361699      0.711526   \n",
       "min        1.000000      0.000000      0.000000       0.000000      0.000000   \n",
       "25%        2.000000      0.000000      0.000000       0.000000      1.000000   \n",
       "50%        3.000000      0.000000      0.000000       0.000000      2.000000   \n",
       "75%       99.000000      2.880000      0.000000       0.000000      2.000000   \n",
       "max       99.000000     47.520000      1.000000  137496.787200      2.000000   \n",
       "\n",
       "       ...       var_272       var_275       var_276       var_277  \\\n",
       "count  ...  35000.000000  35000.000000  35000.000000  35000.000000   \n",
       "mean   ...      0.792747      0.024971     82.269169      1.432810   \n",
       "std    ...      3.003194      0.156040    522.019328      5.234437   \n",
       "min    ...      0.000000      0.000000      0.000000      0.000000   \n",
       "25%    ...      0.000000      0.000000      0.000000      0.000000   \n",
       "50%    ...      0.000000      0.000000      0.000000      0.000000   \n",
       "75%    ...      0.000000      0.000000      0.000000      0.000000   \n",
       "max    ...     25.920000      1.000000   7948.800000     43.200000   \n",
       "\n",
       "            var_279       var_281       var_288       var_292       var_295  \\\n",
       "count  35000.000000  35000.000000  35000.000000  35000.000000  35000.000000   \n",
       "mean       2.014221      0.011086      0.035178      0.008306      0.127714   \n",
       "std        6.866269      0.104705      0.314429      0.152159      0.605675   \n",
       "min        0.000000      0.000000      0.000000      0.000000      0.000000   \n",
       "25%        0.000000      0.000000      0.000000      0.000000      0.000000   \n",
       "50%        0.000000      0.000000      0.000000      0.000000      0.000000   \n",
       "75%        0.000000      0.000000      0.000000      0.000000      0.000000   \n",
       "max       53.010000      1.000000      2.970000      2.850000      3.000000   \n",
       "\n",
       "             var_300  \n",
       "count   35000.000000  \n",
       "mean     2046.161966  \n",
       "std     15078.432648  \n",
       "min         0.000000  \n",
       "25%         0.000000  \n",
       "50%         0.000000  \n",
       "75%         0.000000  \n",
       "max    193611.974400  \n",
       "\n",
       "[8 rows x 68 columns]"
      ]
     },
     "execution_count": 24,
     "metadata": {},
     "output_type": "execute_result"
    }
   ],
   "source": [
    "X_train_processing = correlation_drop(X_train_processing)\n",
    "X_train_processing.describe()"
   ]
  },
  {
   "cell_type": "markdown",
   "metadata": {},
   "source": [
    "To kończy nasz podstawowy preprocessing"
   ]
  },
  {
   "cell_type": "code",
   "execution_count": 25,
   "metadata": {},
   "outputs": [],
   "source": [
    "X_train = pd.DataFrame(X_train_processing)\n",
    "X_test = X_test[X_test.columns.intersection(X_train.columns)]"
   ]
  },
  {
   "cell_type": "markdown",
   "metadata": {},
   "source": [
    "Jako dodatkową opcję zmniejszenie liczby kolumn użyjemy Recursive Feature Elimination (RFE), która wybiera kolumny są najbardziej znaczące w przewidywaniu zmiennej target"
   ]
  },
  {
   "cell_type": "code",
   "execution_count": 26,
   "metadata": {},
   "outputs": [
    {
     "name": "stdout",
     "output_type": "stream",
     "text": [
      "Index(['var_17', 'var_29', 'var_35', 'var_46', 'var_50', 'var_74', 'var_75',\n",
      "       'var_76', 'var_110', 'var_145', 'var_157', 'var_161', 'var_173',\n",
      "       'var_185', 'var_190', 'var_207', 'var_222', 'var_231', 'var_262',\n",
      "       'var_279'],\n",
      "      dtype='object')\n"
     ]
    }
   ],
   "source": [
    "rfc = RandomForestClassifier()\n",
    "rfe = RFE(estimator=rfc, n_features_to_select = 20)\n",
    "rfe.fit_transform(X_train_processing, y_train)\n",
    "selected_features = X_train_processing.columns[rfe.support_]\n",
    "print(selected_features)"
   ]
  },
  {
   "cell_type": "markdown",
   "metadata": {},
   "source": [
    "Zapiszemy wyniki w oddzielnych ramkach"
   ]
  },
  {
   "cell_type": "code",
   "execution_count": 27,
   "metadata": {},
   "outputs": [],
   "source": [
    "X_train_rfe = X_train[selected_features]\n",
    "X_test_rfe = X_test[X_test.columns.intersection(X_train_rfe.columns)]"
   ]
  },
  {
   "cell_type": "markdown",
   "metadata": {},
   "source": [
    "### Przechodzimy do Modeli"
   ]
  },
  {
   "cell_type": "markdown",
   "metadata": {},
   "source": [
    "Sprawdźmy jak rozkłada się zmienna target"
   ]
  },
  {
   "cell_type": "code",
   "execution_count": 47,
   "metadata": {
    "colab": {
     "base_uri": "https://localhost:8080/"
    },
    "executionInfo": {
     "elapsed": 6,
     "status": "ok",
     "timestamp": 1681936613329,
     "user": {
      "displayName": "Paweł Świderski",
      "userId": "16606458260379333856"
     },
     "user_tz": -120
    },
    "id": "29iheN5_jViy",
    "outputId": "3a9619d2-8f9f-4c83-977a-2533bbc04270"
   },
   "outputs": [
    {
     "name": "stdout",
     "output_type": "stream",
     "text": [
      "Rozkład w całej ramce:  {0: 48009, 1: 1991}\n",
      "Rozkład w zbiorze testowym:  {0: 4321, 1: 179}\n"
     ]
    }
   ],
   "source": [
    "unique, counts = np.unique(y, return_counts=True)\n",
    "print(\"Rozkład w całej ramce: \", dict(zip(unique, counts)))\n",
    "\n",
    "unique, counts = np.unique(y_test, return_counts=True)\n",
    "print(\"Rozkład w zbiorze testowym: \", dict(zip(unique, counts)))"
   ]
  },
  {
   "cell_type": "markdown",
   "metadata": {},
   "source": [
    "Widzimy, że wartości 1 jest bardzo mało w porównaniu do wartości 0, w zbiorze testowym jest jedynie 179 wartości 1, co będzie prowadziło do problemów z uzyskaniem wysokiej precyzji.\n",
    "Uważamy, że tak samo dużą, jak nie większą, uwagę powinniśmy przywiązywąć do wyników cross-validacji, gdyż w tym przypadku może być ona bardziej miarodajna "
   ]
  },
  {
   "cell_type": "markdown",
   "metadata": {
    "id": "hfESZR61tJm1"
   },
   "source": [
    "####  Logistyczna regresja"
   ]
  },
  {
   "cell_type": "code",
   "execution_count": 48,
   "metadata": {
    "id": "vec09-olKiUr"
   },
   "outputs": [],
   "source": [
    "from sklearn import linear_model\n",
    "lr_model = linear_model.LogisticRegression()"
   ]
  },
  {
   "cell_type": "markdown",
   "metadata": {
    "id": "XcZIAA81tXoX"
   },
   "source": [
    "Base preprocessing"
   ]
  },
  {
   "cell_type": "code",
   "execution_count": 49,
   "metadata": {
    "colab": {
     "base_uri": "https://localhost:8080/"
    },
    "executionInfo": {
     "elapsed": 6605,
     "status": "ok",
     "timestamp": 1681936980541,
     "user": {
      "displayName": "Paweł Świderski",
      "userId": "16606458260379333856"
     },
     "user_tz": -120
    },
    "id": "3KXIBekeXyVn",
    "outputId": "79844b45-bcde-4699-d974-12b20db542ea"
   },
   "outputs": [
    {
     "name": "stdout",
     "output_type": "stream",
     "text": [
      "              precision    recall  f1-score   support\n",
      "\n",
      "           0       0.96      0.99      0.97      4321\n",
      "           1       0.00      0.00      0.00       179\n",
      "\n",
      "    accuracy                           0.95      4500\n",
      "   macro avg       0.48      0.49      0.49      4500\n",
      "weighted avg       0.92      0.95      0.94      4500\n",
      "\n"
     ]
    }
   ],
   "source": [
    "lr_model.fit(X_train, y_train)\n",
    "\n",
    "y_pred = lr_model.predict(X_test)\n",
    "print(classification_report(y_test, y_pred))"
   ]
  },
  {
   "cell_type": "markdown",
   "metadata": {
    "id": "InMQmgvQt7LA"
   },
   "source": [
    "Preprocessing RFE"
   ]
  },
  {
   "cell_type": "code",
   "execution_count": 50,
   "metadata": {
    "colab": {
     "base_uri": "https://localhost:8080/"
    },
    "executionInfo": {
     "elapsed": 1928,
     "status": "ok",
     "timestamp": 1681936770112,
     "user": {
      "displayName": "Paweł Świderski",
      "userId": "16606458260379333856"
     },
     "user_tz": -120
    },
    "id": "iLAe497euAwJ",
    "outputId": "797f3e14-3253-4822-e771-01e6c4f8bc2a"
   },
   "outputs": [
    {
     "name": "stdout",
     "output_type": "stream",
     "text": [
      "              precision    recall  f1-score   support\n",
      "\n",
      "           0       0.96      1.00      0.98      4321\n",
      "           1       0.00      0.00      0.00       179\n",
      "\n",
      "    accuracy                           0.96      4500\n",
      "   macro avg       0.48      0.50      0.49      4500\n",
      "weighted avg       0.92      0.96      0.94      4500\n",
      "\n"
     ]
    }
   ],
   "source": [
    "lr_model.fit(X_train_rfe, y_train)\n",
    "\n",
    "y_pred = lr_model.predict(X_test_rfe)\n",
    "print(classification_report(y_test, y_pred))"
   ]
  },
  {
   "cell_type": "markdown",
   "metadata": {},
   "source": [
    "Jak widać regresja logistyczna działa bardzo słabo gdyż przewiduje same 0, dlatego porzucimy szybko ten model i nie będziemy tracić czasu na cross-validacje"
   ]
  },
  {
   "cell_type": "markdown",
   "metadata": {},
   "source": [
    "#### Decision Trees"
   ]
  },
  {
   "cell_type": "code",
   "execution_count": 63,
   "metadata": {},
   "outputs": [],
   "source": [
    "clf = DecisionTreeClassifier(random_state=0)"
   ]
  },
  {
   "cell_type": "markdown",
   "metadata": {},
   "source": [
    "Base Preprocessing"
   ]
  },
  {
   "cell_type": "code",
   "execution_count": 66,
   "metadata": {},
   "outputs": [
    {
     "name": "stdout",
     "output_type": "stream",
     "text": [
      "              precision    recall  f1-score   support\n",
      "\n",
      "           0       0.97      0.94      0.95      4321\n",
      "           1       0.13      0.22      0.16       179\n",
      "\n",
      "    accuracy                           0.91      4500\n",
      "   macro avg       0.55      0.58      0.56      4500\n",
      "weighted avg       0.93      0.91      0.92      4500\n",
      "\n",
      "Wynik ROC-AUC na zbiorze testowym:  0.5782743493837423\n",
      "Wynik ROC-AUC przez cross-validation:  0.5509427913040436\n",
      "Wynik F1 przez cross-validation:  0.13228550143053952\n"
     ]
    }
   ],
   "source": [
    "clf.fit(X_train, y_train)\n",
    "\n",
    "y_pred = clf.predict(X_test)\n",
    "y_pred_probs = clf.predict_proba(X_test)[:, 1]\n",
    "\n",
    "#Raport z wskaźnikami oceny modelu\n",
    "print(classification_report(y_test, y_pred))\n",
    "\n",
    "\n",
    "print(\"Wynik ROC-AUC na zbiorze testowym: \", roc_auc_score(y_test, y_pred_probs))\n",
    "\n",
    "scores = cross_val_score(clf, X_train, y_train, cv=5, scoring=\"roc_auc\").mean()\n",
    "print(\"Wynik ROC-AUC przez cross-validation: \", scores)\n",
    "\n",
    "scores = cross_val_score(clf, X_train, y_train, cv=5, scoring=\"f1\").mean()\n",
    "print(\"Wynik F1 przez cross-validation: \", scores)"
   ]
  },
  {
   "cell_type": "markdown",
   "metadata": {},
   "source": [
    "Preprocessing RFE"
   ]
  },
  {
   "cell_type": "code",
   "execution_count": 67,
   "metadata": {},
   "outputs": [
    {
     "name": "stdout",
     "output_type": "stream",
     "text": [
      "              precision    recall  f1-score   support\n",
      "\n",
      "           0       0.97      0.94      0.95      4321\n",
      "           1       0.12      0.19      0.15       179\n",
      "\n",
      "    accuracy                           0.91      4500\n",
      "   macro avg       0.54      0.57      0.55      4500\n",
      "weighted avg       0.93      0.91      0.92      4500\n",
      "\n",
      "Wynik ROC-AUC na zbiorze testowym:  0.5670850038592866\n",
      "Wynik ROC-AUC przez cross-validation:  0.554548303627131\n",
      "Wynik F1 przez cross-validation:  0.13845906663508853\n"
     ]
    }
   ],
   "source": [
    "clf.fit(X_train_rfe, y_train)\n",
    "\n",
    "y_pred = clf.predict(X_test_rfe)\n",
    "y_pred_probs = clf.predict_proba(X_test_rfe)[:, 1]\n",
    "\n",
    "#Raport z wskaźnikami oceny modelu\n",
    "print(classification_report(y_test, y_pred))\n",
    "\n",
    "\n",
    "print(\"Wynik ROC-AUC na zbiorze testowym: \", roc_auc_score(y_test, y_pred_probs))\n",
    "\n",
    "scores = cross_val_score(clf, X_train_rfe, y_train, cv=5, scoring=\"roc_auc\").mean()\n",
    "print(\"Wynik ROC-AUC przez cross-validation: \", scores)\n",
    "\n",
    "scores = cross_val_score(clf, X_train_rfe, y_train, cv=5, scoring=\"f1\").mean()\n",
    "print(\"Wynik F1 przez cross-validation: \", scores)"
   ]
  },
  {
   "cell_type": "markdown",
   "metadata": {},
   "source": [
    "Uzyskaliśmy lepsze wyniki niż w regresji logistycznej, gdyż mamy precyzję jedynek w okolicy 0.12 oraz wynik F1 jest wysoki w porównaniu do innych modeli jednak wynik ROC-AUC jest słaby zarówno na zbiorze testowym jaki przy cross-validacji. Preprocessing RFE miał marginalny wpływ na wyniki."
   ]
  },
  {
   "cell_type": "markdown",
   "metadata": {},
   "source": [
    "#### XGBoost"
   ]
  },
  {
   "cell_type": "code",
   "execution_count": 68,
   "metadata": {},
   "outputs": [],
   "source": [
    "clf = XGBClassifier(random_state = 0)"
   ]
  },
  {
   "cell_type": "markdown",
   "metadata": {},
   "source": [
    "Base preprocessing"
   ]
  },
  {
   "cell_type": "code",
   "execution_count": 71,
   "metadata": {},
   "outputs": [
    {
     "name": "stdout",
     "output_type": "stream",
     "text": [
      "              precision    recall  f1-score   support\n",
      "\n",
      "           0       0.96      1.00      0.98      4321\n",
      "           1       0.17      0.01      0.02       179\n",
      "\n",
      "    accuracy                           0.96      4500\n",
      "   macro avg       0.56      0.50      0.50      4500\n",
      "weighted avg       0.93      0.96      0.94      4500\n",
      "\n",
      "Wynik ROC-AUC na zbiorze testowym:  0.8297007339755567\n",
      "Wynik ROC-AUC przez cross-validation:  0.7965584976780726\n",
      "Wynik F1 przez cross-validation:  0.01383803101492854\n"
     ]
    }
   ],
   "source": [
    "clf.fit(X_train, y_train)\n",
    "\n",
    "y_pred = clf.predict(X_test)\n",
    "y_pred_probs = clf.predict_proba(X_test)[:, 1]\n",
    "\n",
    "#Raport z wskaźnikami oceny modelu\n",
    "print(classification_report(y_test, y_pred))\n",
    "\n",
    "\n",
    "print(\"Wynik ROC-AUC na zbiorze testowym: \", roc_auc_score(y_test, y_pred_probs))\n",
    "\n",
    "scores = cross_val_score(clf, X_train, y_train, cv=5, scoring=\"roc_auc\").mean()\n",
    "print(\"Wynik ROC-AUC przez cross-validation: \", scores)\n",
    "\n",
    "scores = cross_val_score(clf, X_train, y_train, cv=5, scoring=\"f1\").mean()\n",
    "print(\"Wynik F1 przez cross-validation: \", scores)"
   ]
  },
  {
   "cell_type": "markdown",
   "metadata": {},
   "source": [
    "Preprocessing RFE"
   ]
  },
  {
   "cell_type": "code",
   "execution_count": 72,
   "metadata": {},
   "outputs": [
    {
     "name": "stdout",
     "output_type": "stream",
     "text": [
      "              precision    recall  f1-score   support\n",
      "\n",
      "           0       0.96      1.00      0.98      4321\n",
      "           1       0.24      0.02      0.04       179\n",
      "\n",
      "    accuracy                           0.96      4500\n",
      "   macro avg       0.60      0.51      0.51      4500\n",
      "weighted avg       0.93      0.96      0.94      4500\n",
      "\n",
      "Wynik ROC-AUC na zbiorze testowym:  0.8309684159082771\n",
      "Wynik ROC-AUC przez cross-validation:  0.7945318825003485\n",
      "Wynik F1 przez cross-validation:  0.0165142280191381\n"
     ]
    }
   ],
   "source": [
    "clf.fit(X_train_rfe, y_train)\n",
    "\n",
    "y_pred = clf.predict(X_test_rfe)\n",
    "y_pred_probs = clf.predict_proba(X_test_rfe)[:, 1]\n",
    "\n",
    "#Raport z wskaźnikami oceny modelu\n",
    "print(classification_report(y_test, y_pred))\n",
    "\n",
    "print(\"Wynik ROC-AUC na zbiorze testowym: \", roc_auc_score(y_test, y_pred_probs))\n",
    "\n",
    "scores = cross_val_score(clf, X_train_rfe, y_train, cv=5, scoring=\"roc_auc\").mean()\n",
    "print(\"Wynik ROC-AUC przez cross-validation: \", scores)\n",
    "\n",
    "scores = cross_val_score(clf, X_train_rfe, y_train, cv=5, scoring=\"f1\").mean()\n",
    "print(\"Wynik F1 przez cross-validation: \", scores)"
   ]
  },
  {
   "cell_type": "markdown",
   "metadata": {},
   "source": [
    "XGBoost spisuje się bardzo dobrze pod względem ROC-AUC, jest on wysoki zarówno na zbiorze testowym jaki przy cross-validacji, a do tego precision na preprocessing RFE podskoczyło do 0.24 jednak F1 jest bardzo niski, zdecydowanie niższy niż przy Decision Tree"
   ]
  },
  {
   "cell_type": "markdown",
   "metadata": {},
   "source": [
    "Możemy spojrzeć też na znaczenie poszczególnych kolumn"
   ]
  },
  {
   "cell_type": "code",
   "execution_count": 74,
   "metadata": {},
   "outputs": [
    {
     "data": {
      "image/png": "[encoded data removed]",
      "text/plain": [
       "<Figure size 640x480 with 1 Axes>"
      ]
     },
     "metadata": {},
     "output_type": "display_data"
    }
   ],
   "source": [
    "plot_importance(clf)\n",
    "plt.show()"
   ]
  },
  {
   "cell_type": "markdown",
   "metadata": {},
   "source": [
    "Możemy spojrzeć co się stanie jeśli usuniemy 2 kolumny o najmniejszym znaczeniu"
   ]
  },
  {
   "cell_type": "code",
   "execution_count": 75,
   "metadata": {},
   "outputs": [
    {
     "name": "stdout",
     "output_type": "stream",
     "text": [
      "              precision    recall  f1-score   support\n",
      "\n",
      "           0       0.96      1.00      0.98      4321\n",
      "           1       0.10      0.01      0.01       179\n",
      "\n",
      "    accuracy                           0.96      4500\n",
      "   macro avg       0.53      0.50      0.49      4500\n",
      "weighted avg       0.93      0.96      0.94      4500\n",
      "\n",
      "Wynik ROC-AUC na zbiorze testowym:  0.8229162761051328\n",
      "Wynik ROC-AUC przez cross-validation:  [0.80898168 0.7715631  0.80239009 0.7975777  0.7810815 ]\n",
      "Wynik F1 przez cross-validation:  [0.02076125 0.01369863 0.02061856 0.01384083 0.01365188]\n"
     ]
    }
   ],
   "source": [
    "clf.fit(X_train_rfe.drop(['var_49', 'var_262'], axis=1), y_train)\n",
    "\n",
    "y_pred = clf.predict(X_test_rfe.drop(['var_49', 'var_262'], axis=1))\n",
    "y_pred_probs = clf.predict_proba(X_test_rfe.drop(['var_49', 'var_262'], axis=1))[:, 1]\n",
    "\n",
    "#Raport z wskaźnikami oceny modelu\n",
    "print(classification_report(y_test, y_pred))\n",
    "\n",
    "\n",
    "print(\"Wynik ROC-AUC na zbiorze testowym: \", roc_auc_score(y_test, y_pred_probs))\n",
    "\n",
    "scores = cross_val_score(clf, X_train_rfe.drop(['var_49', 'var_262'], axis=1), y_train, cv=5, scoring=\"roc_auc\")\n",
    "print(\"Wynik ROC-AUC przez cross-validation: \", scores)\n",
    "\n",
    "scores = cross_val_score(clf, X_train_rfe, y_train, cv=5, scoring=\"f1\")\n",
    "print(\"Wynik F1 przez cross-validation: \", scores)"
   ]
  },
  {
   "cell_type": "markdown",
   "metadata": {},
   "source": [
    "Precision mocno spadł natomiast, F1 trochę poszedł do góry, a wynik ROC-AUC praktycznie nie uległ zmianie. Ponieważ my i tak mamy jedynie 20 kolumn nie potrzebne jest usuwać kolejne kosztem utraty wyników, jednak gdyby oznaczało to znaczne zwiększenie efyktywności modelu można by się nad tym zastanowić"
   ]
  },
  {
   "cell_type": "markdown",
   "metadata": {},
   "source": [
    "#### Naive Bayes"
   ]
  },
  {
   "cell_type": "code",
   "execution_count": 28,
   "metadata": {},
   "outputs": [],
   "source": [
    "clf = GaussianNB()"
   ]
  },
  {
   "cell_type": "markdown",
   "metadata": {},
   "source": [
    "Base preprocessing"
   ]
  },
  {
   "cell_type": "code",
   "execution_count": 77,
   "metadata": {},
   "outputs": [
    {
     "name": "stdout",
     "output_type": "stream",
     "text": [
      "              precision    recall  f1-score   support\n",
      "\n",
      "           0       0.99      0.13      0.23      4321\n",
      "           1       0.04      0.96      0.08       179\n",
      "\n",
      "    accuracy                           0.16      4500\n",
      "   macro avg       0.52      0.55      0.16      4500\n",
      "weighted avg       0.95      0.16      0.22      4500\n",
      "\n",
      "Wynik ROC-AUC na zbiorze testowym:  0.7408324164564637\n",
      "Wynik ROC-AUC przez cross-validation:  0.7408062960736502\n",
      "Wynik F1 przez cross-validation:  0.08366627473079377\n"
     ]
    }
   ],
   "source": [
    "clf.fit(X_train, y_train)\n",
    "\n",
    "y_pred = clf.predict(X_test)\n",
    "y_pred_probs = clf.predict_proba(X_test)[:, 1]\n",
    "\n",
    "#Raport z wskaźnikami oceny modelu\n",
    "print(classification_report(y_test, y_pred))\n",
    "\n",
    "\n",
    "print(\"Wynik ROC-AUC na zbiorze testowym: \", roc_auc_score(y_test, y_pred_probs))\n",
    "\n",
    "scores = cross_val_score(clf, X_train, y_train, cv=5, scoring=\"roc_auc\").mean()\n",
    "print(\"Wynik ROC-AUC przez cross-validation: \", scores)\n",
    "\n",
    "scores = cross_val_score(clf, X_train, y_train, cv=5, scoring=\"f1\").mean()\n",
    "print(\"Wynik F1 przez cross-validation: \", scores)\n"
   ]
  },
  {
   "cell_type": "markdown",
   "metadata": {},
   "source": [
    "Preprocessing RFE"
   ]
  },
  {
   "cell_type": "code",
   "execution_count": 81,
   "metadata": {},
   "outputs": [
    {
     "name": "stdout",
     "output_type": "stream",
     "text": [
      "              precision    recall  f1-score   support\n",
      "\n",
      "           0       0.99      0.24      0.39      4321\n",
      "           1       0.05      0.92      0.09       179\n",
      "\n",
      "    accuracy                           0.27      4500\n",
      "   macro avg       0.52      0.58      0.24      4500\n",
      "weighted avg       0.95      0.27      0.38      4500\n",
      "\n",
      "Wynik ROC-AUC na zbiorze testowym:  0.7567000965791336\n",
      "Wynik ROC-AUC przez cross-validation:  0.7443173831407464\n",
      "Wynik F1 przez cross-validation:  0.08985748530680153\n"
     ]
    }
   ],
   "source": [
    "clf.fit(X_train_rfe, y_train)\n",
    "\n",
    "y_pred = clf.predict(X_test_rfe)\n",
    "y_pred_probs = clf.predict_proba(X_test_rfe)[:, 1]\n",
    "\n",
    "#Raport z wskaźnikami oceny modelu\n",
    "print(classification_report(y_test, y_pred))\n",
    "\n",
    "print(\"Wynik ROC-AUC na zbiorze testowym: \", roc_auc_score(y_test, y_pred_probs))\n",
    "\n",
    "scores = cross_val_score(clf, X_train_rfe, y_train, cv=5, scoring=\"roc_auc\").mean()\n",
    "print(\"Wynik ROC-AUC przez cross-validation: \", scores)\n",
    "\n",
    "scores = cross_val_score(clf, X_train_rfe, y_train, cv=5, scoring=\"f1\").mean()\n",
    "print(\"Wynik F1 przez cross-validation: \", scores)"
   ]
  },
  {
   "cell_type": "markdown",
   "metadata": {},
   "source": [
    "Zaczynamy zauważać trend że wyniki na ramce po preprocessing RFE są w każdym modelu lepsze od base preprocessingu. Model NB ma trochę ROC od XGboost ale za to zdecydowanie wyższy F1. Wydaje się to narazie najlepsze połączenie dobrego wyniku F1 i ROC."
   ]
  },
  {
   "cell_type": "markdown",
   "metadata": {},
   "source": [
    "Spróbujemy zatem poprzez hiperparametry znaleźć najlepszą wartość parametru var_smoothing w celu otrzymana najlepszego wyniku F1"
   ]
  },
  {
   "cell_type": "code",
   "execution_count": 49,
   "metadata": {},
   "outputs": [
    {
     "name": "stdout",
     "output_type": "stream",
     "text": [
      "Fitting 5 folds for each of 100 candidates, totalling 500 fits\n"
     ]
    },
    {
     "data": {
      "text/html": [
       "<style>#sk-container-id-5 {color: black;background-color: white;}#sk-container-id-5 pre{padding: 0;}#sk-container-id-5 div.sk-toggleable {background-color: white;}#sk-container-id-5 label.sk-toggleable__label {cursor: pointer;display: block;width: 100%;margin-bottom: 0;padding: 0.3em;box-sizing: border-box;text-align: center;}#sk-container-id-5 label.sk-toggleable__label-arrow:before {content: \"▸\";float: left;margin-right: 0.25em;color: #696969;}#sk-container-id-5 label.sk-toggleable__label-arrow:hover:before {color: black;}#sk-container-id-5 div.sk-estimator:hover label.sk-toggleable__label-arrow:before {color: black;}#sk-container-id-5 div.sk-toggleable__content {max-height: 0;max-width: 0;overflow: hidden;text-align: left;background-color: #f0f8ff;}#sk-container-id-5 div.sk-toggleable__content pre {margin: 0.2em;color: black;border-radius: 0.25em;background-color: #f0f8ff;}#sk-container-id-5 input.sk-toggleable__control:checked~div.sk-toggleable__content {max-height: 200px;max-width: 100%;overflow: auto;}#sk-container-id-5 input.sk-toggleable__control:checked~label.sk-toggleable__label-arrow:before {content: \"▾\";}#sk-container-id-5 div.sk-estimator input.sk-toggleable__control:checked~label.sk-toggleable__label {background-color: #d4ebff;}#sk-container-id-5 div.sk-label input.sk-toggleable__control:checked~label.sk-toggleable__label {background-color: #d4ebff;}#sk-container-id-5 input.sk-hidden--visually {border: 0;clip: rect(1px 1px 1px 1px);clip: rect(1px, 1px, 1px, 1px);height: 1px;margin: -1px;overflow: hidden;padding: 0;position: absolute;width: 1px;}#sk-container-id-5 div.sk-estimator {font-family: monospace;background-color: #f0f8ff;border: 1px dotted black;border-radius: 0.25em;box-sizing: border-box;margin-bottom: 0.5em;}#sk-container-id-5 div.sk-estimator:hover {background-color: #d4ebff;}#sk-container-id-5 div.sk-parallel-item::after {content: \"\";width: 100%;border-bottom: 1px solid gray;flex-grow: 1;}#sk-container-id-5 div.sk-label:hover label.sk-toggleable__label {background-color: #d4ebff;}#sk-container-id-5 div.sk-serial::before {content: \"\";position: absolute;border-left: 1px solid gray;box-sizing: border-box;top: 0;bottom: 0;left: 50%;z-index: 0;}#sk-container-id-5 div.sk-serial {display: flex;flex-direction: column;align-items: center;background-color: white;padding-right: 0.2em;padding-left: 0.2em;position: relative;}#sk-container-id-5 div.sk-item {position: relative;z-index: 1;}#sk-container-id-5 div.sk-parallel {display: flex;align-items: stretch;justify-content: center;background-color: white;position: relative;}#sk-container-id-5 div.sk-item::before, #sk-container-id-5 div.sk-parallel-item::before {content: \"\";position: absolute;border-left: 1px solid gray;box-sizing: border-box;top: 0;bottom: 0;left: 50%;z-index: -1;}#sk-container-id-5 div.sk-parallel-item {display: flex;flex-direction: column;z-index: 1;position: relative;background-color: white;}#sk-container-id-5 div.sk-parallel-item:first-child::after {align-self: flex-end;width: 50%;}#sk-container-id-5 div.sk-parallel-item:last-child::after {align-self: flex-start;width: 50%;}#sk-container-id-5 div.sk-parallel-item:only-child::after {width: 0;}#sk-container-id-5 div.sk-dashed-wrapped {border: 1px dashed gray;margin: 0 0.4em 0.5em 0.4em;box-sizing: border-box;padding-bottom: 0.4em;background-color: white;}#sk-container-id-5 div.sk-label label {font-family: monospace;font-weight: bold;display: inline-block;line-height: 1.2em;}#sk-container-id-5 div.sk-label-container {text-align: center;}#sk-container-id-5 div.sk-container {/* jupyter's `normalize.less` sets `[hidden] { display: none; }` but bootstrap.min.css set `[hidden] { display: none !important; }` so we also need the `!important` here to be able to override the default hidden behavior on the sphinx rendered scikit-learn.org. See: https://github.com/scikit-learn/scikit-learn/issues/21755 */display: inline-block !important;position: relative;}#sk-container-id-5 div.sk-text-repr-fallback {display: none;}</style><div id=\"sk-container-id-5\" class=\"sk-top-container\"><div class=\"sk-text-repr-fallback\"><pre>GridSearchCV(cv=5, estimator=GaussianNB(var_smoothing=0.23101297000831597),\n",
       "             param_grid={&#x27;var_smoothing&#x27;: array([1.00000000e+00, 8.11130831e-01, 6.57933225e-01, 5.33669923e-01,\n",
       "       4.32876128e-01, 3.51119173e-01, 2.84803587e-01, 2.31012970e-01,\n",
       "       1.87381742e-01, 1.51991108e-01, 1.23284674e-01, 1.00000000e-01,\n",
       "       8.11130831e-02, 6.57933225e-02, 5.33669923e-02, 4.32876128e-02,\n",
       "       3...\n",
       "       1.23284674e-07, 1.00000000e-07, 8.11130831e-08, 6.57933225e-08,\n",
       "       5.33669923e-08, 4.32876128e-08, 3.51119173e-08, 2.84803587e-08,\n",
       "       2.31012970e-08, 1.87381742e-08, 1.51991108e-08, 1.23284674e-08,\n",
       "       1.00000000e-08, 8.11130831e-09, 6.57933225e-09, 5.33669923e-09,\n",
       "       4.32876128e-09, 3.51119173e-09, 2.84803587e-09, 2.31012970e-09,\n",
       "       1.87381742e-09, 1.51991108e-09, 1.23284674e-09, 1.00000000e-09])},\n",
       "             scoring=&#x27;f1&#x27;, verbose=1)</pre><b>In a Jupyter environment, please rerun this cell to show the HTML representation or trust the notebook. <br />On GitHub, the HTML representation is unable to render, please try loading this page with nbviewer.org.</b></div><div class=\"sk-container\" hidden><div class=\"sk-item sk-dashed-wrapped\"><div class=\"sk-label-container\"><div class=\"sk-label sk-toggleable\"><input class=\"sk-toggleable__control sk-hidden--visually\" id=\"sk-estimator-id-13\" type=\"checkbox\" ><label for=\"sk-estimator-id-13\" class=\"sk-toggleable__label sk-toggleable__label-arrow\">GridSearchCV</label><div class=\"sk-toggleable__content\"><pre>GridSearchCV(cv=5, estimator=GaussianNB(var_smoothing=0.23101297000831597),\n",
       "             param_grid={&#x27;var_smoothing&#x27;: array([1.00000000e+00, 8.11130831e-01, 6.57933225e-01, 5.33669923e-01,\n",
       "       4.32876128e-01, 3.51119173e-01, 2.84803587e-01, 2.31012970e-01,\n",
       "       1.87381742e-01, 1.51991108e-01, 1.23284674e-01, 1.00000000e-01,\n",
       "       8.11130831e-02, 6.57933225e-02, 5.33669923e-02, 4.32876128e-02,\n",
       "       3...\n",
       "       1.23284674e-07, 1.00000000e-07, 8.11130831e-08, 6.57933225e-08,\n",
       "       5.33669923e-08, 4.32876128e-08, 3.51119173e-08, 2.84803587e-08,\n",
       "       2.31012970e-08, 1.87381742e-08, 1.51991108e-08, 1.23284674e-08,\n",
       "       1.00000000e-08, 8.11130831e-09, 6.57933225e-09, 5.33669923e-09,\n",
       "       4.32876128e-09, 3.51119173e-09, 2.84803587e-09, 2.31012970e-09,\n",
       "       1.87381742e-09, 1.51991108e-09, 1.23284674e-09, 1.00000000e-09])},\n",
       "             scoring=&#x27;f1&#x27;, verbose=1)</pre></div></div></div><div class=\"sk-parallel\"><div class=\"sk-parallel-item\"><div class=\"sk-item\"><div class=\"sk-label-container\"><div class=\"sk-label sk-toggleable\"><input class=\"sk-toggleable__control sk-hidden--visually\" id=\"sk-estimator-id-14\" type=\"checkbox\" ><label for=\"sk-estimator-id-14\" class=\"sk-toggleable__label sk-toggleable__label-arrow\">estimator: GaussianNB</label><div class=\"sk-toggleable__content\"><pre>GaussianNB(var_smoothing=0.23101297000831597)</pre></div></div></div><div class=\"sk-serial\"><div class=\"sk-item\"><div class=\"sk-estimator sk-toggleable\"><input class=\"sk-toggleable__control sk-hidden--visually\" id=\"sk-estimator-id-15\" type=\"checkbox\" ><label for=\"sk-estimator-id-15\" class=\"sk-toggleable__label sk-toggleable__label-arrow\">GaussianNB</label><div class=\"sk-toggleable__content\"><pre>GaussianNB(var_smoothing=0.23101297000831597)</pre></div></div></div></div></div></div></div></div></div></div>"
      ],
      "text/plain": [
       "GridSearchCV(cv=5, estimator=GaussianNB(var_smoothing=0.23101297000831597),\n",
       "             param_grid={'var_smoothing': array([1.00000000e+00, 8.11130831e-01, 6.57933225e-01, 5.33669923e-01,\n",
       "       4.32876128e-01, 3.51119173e-01, 2.84803587e-01, 2.31012970e-01,\n",
       "       1.87381742e-01, 1.51991108e-01, 1.23284674e-01, 1.00000000e-01,\n",
       "       8.11130831e-02, 6.57933225e-02, 5.33669923e-02, 4.32876128e-02,\n",
       "       3...\n",
       "       1.23284674e-07, 1.00000000e-07, 8.11130831e-08, 6.57933225e-08,\n",
       "       5.33669923e-08, 4.32876128e-08, 3.51119173e-08, 2.84803587e-08,\n",
       "       2.31012970e-08, 1.87381742e-08, 1.51991108e-08, 1.23284674e-08,\n",
       "       1.00000000e-08, 8.11130831e-09, 6.57933225e-09, 5.33669923e-09,\n",
       "       4.32876128e-09, 3.51119173e-09, 2.84803587e-09, 2.31012970e-09,\n",
       "       1.87381742e-09, 1.51991108e-09, 1.23284674e-09, 1.00000000e-09])},\n",
       "             scoring='f1', verbose=1)"
      ]
     },
     "execution_count": 49,
     "metadata": {},
     "output_type": "execute_result"
    }
   ],
   "source": [
    "from sklearn.preprocessing import PowerTransformer\n",
    "params_NB = {'var_smoothing': np.logspace(0,-9, num=100)}\n",
    "\n",
    "gs_NB = GridSearchCV(estimator=clf, \n",
    "                     param_grid=params_NB, \n",
    "                     cv=5,\n",
    "                     verbose=1, \n",
    "                     scoring='f1')\n",
    "\n",
    "\n",
    "Data_transformed = PowerTransformer().fit_transform(X_train_rfe)\n",
    "gs_NB.fit(Data_transformed, y_train)"
   ]
  },
  {
   "cell_type": "code",
   "execution_count": 50,
   "metadata": {},
   "outputs": [
    {
     "name": "stdout",
     "output_type": "stream",
     "text": [
      "{'var_smoothing': 0.2848035868435802}\n",
      "0.25180493348414446\n"
     ]
    }
   ],
   "source": [
    "print(gs_NB.best_params_)\n",
    "print(gs_NB.best_score_)"
   ]
  },
  {
   "cell_type": "code",
   "execution_count": 51,
   "metadata": {},
   "outputs": [
    {
     "name": "stdout",
     "output_type": "stream",
     "text": [
      "              precision    recall  f1-score   support\n",
      "\n",
      "           0       0.96      1.00      0.98      4321\n",
      "           1       0.00      0.00      0.00       179\n",
      "\n",
      "    accuracy                           0.96      4500\n",
      "   macro avg       0.48      0.50      0.49      4500\n",
      "weighted avg       0.92      0.96      0.94      4500\n",
      "\n",
      "Wynik ROC-AUC na zbiorze testowym:  0.7826154973954663\n",
      "Wynik ROC-AUC przez cross-validation:  0.731134148056193\n",
      "Wynik F1 przez cross-validation:  0.25180493348414446\n"
     ]
    }
   ],
   "source": [
    "clf = GaussianNB(**gs_NB.best_params_)\n",
    "X_train_transformed = PowerTransformer().fit_transform(X_train_rfe)\n",
    "X_test_transformed = PowerTransformer().fit_transform(X_test_rfe)\n",
    "\n",
    "clf.fit(X_train_transformed, y_train)\n",
    "\n",
    "y_pred = clf.predict(X_test_transformed)\n",
    "y_pred_probs = clf.predict_proba(X_test_transformed)[:, 1]\n",
    "\n",
    "#Raport z wskaźnikami oceny modelu\n",
    "print(classification_report(y_test, y_pred))\n",
    "\n",
    "print(\"Wynik ROC-AUC na zbiorze testowym: \", roc_auc_score(y_test, y_pred_probs))\n",
    "\n",
    "scores = cross_val_score(clf, X_train_transformed, y_train, cv=5, scoring=\"roc_auc\").mean()\n",
    "print(\"Wynik ROC-AUC przez cross-validation: \", scores)\n",
    "\n",
    "scores = cross_val_score(clf, X_train_transformed, y_train, cv=5, scoring=\"f1\").mean()\n",
    "print(\"Wynik F1 przez cross-validation: \", scores)"
   ]
  },
  {
   "cell_type": "markdown",
   "metadata": {
    "id": "5yDKE-9O2QNc"
   },
   "source": [
    "#### Random Tree Forest"
   ]
  },
  {
   "cell_type": "markdown",
   "metadata": {
    "id": "lKgT47JRUvIs"
   },
   "source": [
    "#### Hiperparametry"
   ]
  },
  {
   "cell_type": "markdown",
   "metadata": {},
   "source": [
    "Do modelu random tree forest użujemy metody random search znajdowania hiperparametrów. Będziemy używać ramki X_train_rfe żeby znajdowanie nie trwało zbyt długo"
   ]
  },
  {
   "cell_type": "markdown",
   "metadata": {
    "id": "dNnermQPWQLN"
   },
   "source": [
    "Random Hyperparameter Grid\n"
   ]
  },
  {
   "cell_type": "code",
   "execution_count": null,
   "metadata": {
    "id": "DwE71IANU2zh"
   },
   "outputs": [],
   "source": [
    "# Number of trees in random forest\n",
    "n_estimators = [int(x) for x in np.linspace(start = 100, stop = 300, num = 10)]\n",
    "# Number of features to consider at every split\n",
    "max_features = ['auto', 'sqrt']\n",
    "# Maximum number of levels in tree\n",
    "max_depth = [int(x) for x in np.linspace(10, 110, num = 10)]\n",
    "max_depth.append(None)\n",
    "# Minimum number of samples required to split a node\n",
    "min_samples_split = [2, 5, 10]\n",
    "# Minimum number of samples required at each leaf node\n",
    "min_samples_leaf = [1, 2, 4]\n",
    "# Method of selecting samples for training each tree\n",
    "bootstrap = [True, False]"
   ]
  },
  {
   "cell_type": "code",
   "execution_count": null,
   "metadata": {
    "colab": {
     "base_uri": "https://localhost:8080/"
    },
    "executionInfo": {
     "elapsed": 230,
     "status": "ok",
     "timestamp": 1681938307861,
     "user": {
      "displayName": "Paweł Świderski",
      "userId": "16606458260379333856"
     },
     "user_tz": -120
    },
    "id": "tIuhNh_fVTrR",
    "outputId": "6a64e1c5-aa0d-492b-a0d7-c6640af41295"
   },
   "outputs": [
    {
     "name": "stdout",
     "output_type": "stream",
     "text": [
      "{'n_estimators': [100, 122, 144, 166, 188, 211, 233, 255, 277, 300], 'max_features': ['auto', 'sqrt'], 'max_depth': [10, 21, 32, 43, 54, 65, 76, 87, 98, 110, None], 'min_samples_split': [2, 5, 10], 'min_samples_leaf': [1, 2, 4], 'bootstrap': [True, False]}\n"
     ]
    }
   ],
   "source": [
    "# Create the random grid\n",
    "random_grid = {'n_estimators': n_estimators,\n",
    "               'max_features': max_features,\n",
    "               'max_depth': max_depth,\n",
    "               'min_samples_split': min_samples_split,\n",
    "               'min_samples_leaf': min_samples_leaf,\n",
    "               'bootstrap': bootstrap\n",
    "              }\n",
    "print(random_grid)\n"
   ]
  },
  {
   "cell_type": "markdown",
   "metadata": {},
   "source": [
    "1. Optymalizacja do ROC-AUC"
   ]
  },
  {
   "cell_type": "code",
   "execution_count": null,
   "metadata": {},
   "outputs": [
    {
     "name": "stdout",
     "output_type": "stream",
     "text": [
      "Fitting 5 folds for each of 50 candidates, totalling 250 fits\n"
     ]
    },
    {
     "data": {
      "text/html": [
       "<style>#sk-container-id-2 {color: black;background-color: white;}#sk-container-id-2 pre{padding: 0;}#sk-container-id-2 div.sk-toggleable {background-color: white;}#sk-container-id-2 label.sk-toggleable__label {cursor: pointer;display: block;width: 100%;margin-bottom: 0;padding: 0.3em;box-sizing: border-box;text-align: center;}#sk-container-id-2 label.sk-toggleable__label-arrow:before {content: \"▸\";float: left;margin-right: 0.25em;color: #696969;}#sk-container-id-2 label.sk-toggleable__label-arrow:hover:before {color: black;}#sk-container-id-2 div.sk-estimator:hover label.sk-toggleable__label-arrow:before {color: black;}#sk-container-id-2 div.sk-toggleable__content {max-height: 0;max-width: 0;overflow: hidden;text-align: left;background-color: #f0f8ff;}#sk-container-id-2 div.sk-toggleable__content pre {margin: 0.2em;color: black;border-radius: 0.25em;background-color: #f0f8ff;}#sk-container-id-2 input.sk-toggleable__control:checked~div.sk-toggleable__content {max-height: 200px;max-width: 100%;overflow: auto;}#sk-container-id-2 input.sk-toggleable__control:checked~label.sk-toggleable__label-arrow:before {content: \"▾\";}#sk-container-id-2 div.sk-estimator input.sk-toggleable__control:checked~label.sk-toggleable__label {background-color: #d4ebff;}#sk-container-id-2 div.sk-label input.sk-toggleable__control:checked~label.sk-toggleable__label {background-color: #d4ebff;}#sk-container-id-2 input.sk-hidden--visually {border: 0;clip: rect(1px 1px 1px 1px);clip: rect(1px, 1px, 1px, 1px);height: 1px;margin: -1px;overflow: hidden;padding: 0;position: absolute;width: 1px;}#sk-container-id-2 div.sk-estimator {font-family: monospace;background-color: #f0f8ff;border: 1px dotted black;border-radius: 0.25em;box-sizing: border-box;margin-bottom: 0.5em;}#sk-container-id-2 div.sk-estimator:hover {background-color: #d4ebff;}#sk-container-id-2 div.sk-parallel-item::after {content: \"\";width: 100%;border-bottom: 1px solid gray;flex-grow: 1;}#sk-container-id-2 div.sk-label:hover label.sk-toggleable__label {background-color: #d4ebff;}#sk-container-id-2 div.sk-serial::before {content: \"\";position: absolute;border-left: 1px solid gray;box-sizing: border-box;top: 0;bottom: 0;left: 50%;z-index: 0;}#sk-container-id-2 div.sk-serial {display: flex;flex-direction: column;align-items: center;background-color: white;padding-right: 0.2em;padding-left: 0.2em;position: relative;}#sk-container-id-2 div.sk-item {position: relative;z-index: 1;}#sk-container-id-2 div.sk-parallel {display: flex;align-items: stretch;justify-content: center;background-color: white;position: relative;}#sk-container-id-2 div.sk-item::before, #sk-container-id-2 div.sk-parallel-item::before {content: \"\";position: absolute;border-left: 1px solid gray;box-sizing: border-box;top: 0;bottom: 0;left: 50%;z-index: -1;}#sk-container-id-2 div.sk-parallel-item {display: flex;flex-direction: column;z-index: 1;position: relative;background-color: white;}#sk-container-id-2 div.sk-parallel-item:first-child::after {align-self: flex-end;width: 50%;}#sk-container-id-2 div.sk-parallel-item:last-child::after {align-self: flex-start;width: 50%;}#sk-container-id-2 div.sk-parallel-item:only-child::after {width: 0;}#sk-container-id-2 div.sk-dashed-wrapped {border: 1px dashed gray;margin: 0 0.4em 0.5em 0.4em;box-sizing: border-box;padding-bottom: 0.4em;background-color: white;}#sk-container-id-2 div.sk-label label {font-family: monospace;font-weight: bold;display: inline-block;line-height: 1.2em;}#sk-container-id-2 div.sk-label-container {text-align: center;}#sk-container-id-2 div.sk-container {/* jupyter's `normalize.less` sets `[hidden] { display: none; }` but bootstrap.min.css set `[hidden] { display: none !important; }` so we also need the `!important` here to be able to override the default hidden behavior on the sphinx rendered scikit-learn.org. See: https://github.com/scikit-learn/scikit-learn/issues/21755 */display: inline-block !important;position: relative;}#sk-container-id-2 div.sk-text-repr-fallback {display: none;}</style><div id=\"sk-container-id-2\" class=\"sk-top-container\"><div class=\"sk-text-repr-fallback\"><pre>RandomizedSearchCV(cv=5, estimator=RandomForestClassifier(), n_iter=50,\n",
       "                   n_jobs=-1,\n",
       "                   param_distributions={&#x27;bootstrap&#x27;: [True, False],\n",
       "                                        &#x27;max_depth&#x27;: [10, 21, 32, 43, 54, 65,\n",
       "                                                      76, 87, 98, 110, None],\n",
       "                                        &#x27;max_features&#x27;: [&#x27;auto&#x27;, &#x27;sqrt&#x27;],\n",
       "                                        &#x27;min_samples_leaf&#x27;: [1, 2, 4],\n",
       "                                        &#x27;min_samples_split&#x27;: [2, 5, 10],\n",
       "                                        &#x27;n_estimators&#x27;: [100, 122, 144, 166,\n",
       "                                                         188, 211, 233, 255,\n",
       "                                                         277, 300]},\n",
       "                   random_state=42, scoring=&#x27;roc_auc&#x27;, verbose=2)</pre><b>In a Jupyter environment, please rerun this cell to show the HTML representation or trust the notebook. <br />On GitHub, the HTML representation is unable to render, please try loading this page with nbviewer.org.</b></div><div class=\"sk-container\" hidden><div class=\"sk-item sk-dashed-wrapped\"><div class=\"sk-label-container\"><div class=\"sk-label sk-toggleable\"><input class=\"sk-toggleable__control sk-hidden--visually\" id=\"sk-estimator-id-4\" type=\"checkbox\" ><label for=\"sk-estimator-id-4\" class=\"sk-toggleable__label sk-toggleable__label-arrow\">RandomizedSearchCV</label><div class=\"sk-toggleable__content\"><pre>RandomizedSearchCV(cv=5, estimator=RandomForestClassifier(), n_iter=50,\n",
       "                   n_jobs=-1,\n",
       "                   param_distributions={&#x27;bootstrap&#x27;: [True, False],\n",
       "                                        &#x27;max_depth&#x27;: [10, 21, 32, 43, 54, 65,\n",
       "                                                      76, 87, 98, 110, None],\n",
       "                                        &#x27;max_features&#x27;: [&#x27;auto&#x27;, &#x27;sqrt&#x27;],\n",
       "                                        &#x27;min_samples_leaf&#x27;: [1, 2, 4],\n",
       "                                        &#x27;min_samples_split&#x27;: [2, 5, 10],\n",
       "                                        &#x27;n_estimators&#x27;: [100, 122, 144, 166,\n",
       "                                                         188, 211, 233, 255,\n",
       "                                                         277, 300]},\n",
       "                   random_state=42, scoring=&#x27;roc_auc&#x27;, verbose=2)</pre></div></div></div><div class=\"sk-parallel\"><div class=\"sk-parallel-item\"><div class=\"sk-item\"><div class=\"sk-label-container\"><div class=\"sk-label sk-toggleable\"><input class=\"sk-toggleable__control sk-hidden--visually\" id=\"sk-estimator-id-5\" type=\"checkbox\" ><label for=\"sk-estimator-id-5\" class=\"sk-toggleable__label sk-toggleable__label-arrow\">estimator: RandomForestClassifier</label><div class=\"sk-toggleable__content\"><pre>RandomForestClassifier()</pre></div></div></div><div class=\"sk-serial\"><div class=\"sk-item\"><div class=\"sk-estimator sk-toggleable\"><input class=\"sk-toggleable__control sk-hidden--visually\" id=\"sk-estimator-id-6\" type=\"checkbox\" ><label for=\"sk-estimator-id-6\" class=\"sk-toggleable__label sk-toggleable__label-arrow\">RandomForestClassifier</label><div class=\"sk-toggleable__content\"><pre>RandomForestClassifier()</pre></div></div></div></div></div></div></div></div></div></div>"
      ],
      "text/plain": [
       "RandomizedSearchCV(cv=5, estimator=RandomForestClassifier(), n_iter=50,\n",
       "                   n_jobs=-1,\n",
       "                   param_distributions={'bootstrap': [True, False],\n",
       "                                        'max_depth': [10, 21, 32, 43, 54, 65,\n",
       "                                                      76, 87, 98, 110, None],\n",
       "                                        'max_features': ['auto', 'sqrt'],\n",
       "                                        'min_samples_leaf': [1, 2, 4],\n",
       "                                        'min_samples_split': [2, 5, 10],\n",
       "                                        'n_estimators': [100, 122, 144, 166,\n",
       "                                                         188, 211, 233, 255,\n",
       "                                                         277, 300]},\n",
       "                   random_state=42, scoring='roc_auc', verbose=2)"
      ]
     },
     "execution_count": 47,
     "metadata": {},
     "output_type": "execute_result"
    }
   ],
   "source": [
    "rf = RandomForestClassifier()\n",
    "rf_random = RandomizedSearchCV(estimator = rf, param_distributions = random_grid, n_iter = 50, scoring = 'roc_auc', cv = 5, verbose=2, random_state=42, n_jobs = -1)\n",
    "# Fit the random search model\n",
    "rf_random.fit(X_train_rfe, y_train)"
   ]
  },
  {
   "cell_type": "code",
   "execution_count": null,
   "metadata": {},
   "outputs": [
    {
     "name": "stdout",
     "output_type": "stream",
     "text": [
      "{'n_estimators': 300, 'min_samples_split': 10, 'min_samples_leaf': 2, 'max_features': 'sqrt', 'max_depth': 10, 'bootstrap': True}\n",
      "0.8201015282237034\n"
     ]
    }
   ],
   "source": [
    "print(rf_random.best_params_)\n",
    "print(rf_random.best_score_)"
   ]
  },
  {
   "cell_type": "code",
   "execution_count": 83,
   "metadata": {},
   "outputs": [
    {
     "name": "stdout",
     "output_type": "stream",
     "text": [
      "              precision    recall  f1-score   support\n",
      "\n",
      "           0       0.96      1.00      0.98      4321\n",
      "           1       0.00      0.00      0.00       179\n",
      "\n",
      "    accuracy                           0.96      4500\n",
      "   macro avg       0.48      0.50      0.49      4500\n",
      "weighted avg       0.92      0.96      0.94      4500\n",
      "\n",
      "Wynik ROC-AUC na zbiorze testowym:  0.8412624327857068\n",
      "Wynik ROC-AUC przez cross-validation:  0.8196437722579393\n",
      "Wynik F1 przez cross-validation:  0.0\n"
     ]
    }
   ],
   "source": [
    "clf = RandomForestClassifier(n_estimators = 300, min_samples_split = 10, min_samples_leaf = 2, max_features = 'sqrt', max_depth = 10, bootstrap = True)\n",
    "clf.fit(X_train_rfe, y_train)\n",
    "\n",
    "y_pred = clf.predict(X_test_rfe)\n",
    "y_pred_probs = clf.predict_proba(X_test_rfe)[:, 1]\n",
    "\n",
    "\n",
    "#Raport z wskaźnikami oceny modelu\n",
    "print(classification_report(y_test, y_pred))\n",
    "\n",
    "print(\"Wynik ROC-AUC na zbiorze testowym: \", roc_auc_score(y_test, y_pred_probs))\n",
    "\n",
    "scores = cross_val_score(clf, X_train_rfe, y_train, cv=5, scoring=\"roc_auc\").mean()\n",
    "print(\"Wynik ROC-AUC przez cross-validation: \", scores)\n",
    "\n",
    "scores = cross_val_score(clf, X_train_rfe, y_train, cv=5, scoring=\"f1\").mean()\n",
    "print(\"Wynik F1 przez cross-validation: \", scores)"
   ]
  },
  {
   "cell_type": "markdown",
   "metadata": {},
   "source": [
    "Wynik ROC-AUC jest dosyć wysoki jednak niewiele wyższy niż w XGBoost a za to znowu wróciliśmy do przewidywania samych 0 na zbiorze testowym oraz F1 = 0"
   ]
  },
  {
   "cell_type": "markdown",
   "metadata": {},
   "source": [
    "2. Optymalizacja do wyniku F1"
   ]
  },
  {
   "cell_type": "code",
   "execution_count": null,
   "metadata": {},
   "outputs": [
    {
     "name": "stdout",
     "output_type": "stream",
     "text": [
      "Fitting 5 folds for each of 50 candidates, totalling 250 fits\n"
     ]
    },
    {
     "data": {
      "text/html": [
       "<style>#sk-container-id-4 {color: black;background-color: white;}#sk-container-id-4 pre{padding: 0;}#sk-container-id-4 div.sk-toggleable {background-color: white;}#sk-container-id-4 label.sk-toggleable__label {cursor: pointer;display: block;width: 100%;margin-bottom: 0;padding: 0.3em;box-sizing: border-box;text-align: center;}#sk-container-id-4 label.sk-toggleable__label-arrow:before {content: \"▸\";float: left;margin-right: 0.25em;color: #696969;}#sk-container-id-4 label.sk-toggleable__label-arrow:hover:before {color: black;}#sk-container-id-4 div.sk-estimator:hover label.sk-toggleable__label-arrow:before {color: black;}#sk-container-id-4 div.sk-toggleable__content {max-height: 0;max-width: 0;overflow: hidden;text-align: left;background-color: #f0f8ff;}#sk-container-id-4 div.sk-toggleable__content pre {margin: 0.2em;color: black;border-radius: 0.25em;background-color: #f0f8ff;}#sk-container-id-4 input.sk-toggleable__control:checked~div.sk-toggleable__content {max-height: 200px;max-width: 100%;overflow: auto;}#sk-container-id-4 input.sk-toggleable__control:checked~label.sk-toggleable__label-arrow:before {content: \"▾\";}#sk-container-id-4 div.sk-estimator input.sk-toggleable__control:checked~label.sk-toggleable__label {background-color: #d4ebff;}#sk-container-id-4 div.sk-label input.sk-toggleable__control:checked~label.sk-toggleable__label {background-color: #d4ebff;}#sk-container-id-4 input.sk-hidden--visually {border: 0;clip: rect(1px 1px 1px 1px);clip: rect(1px, 1px, 1px, 1px);height: 1px;margin: -1px;overflow: hidden;padding: 0;position: absolute;width: 1px;}#sk-container-id-4 div.sk-estimator {font-family: monospace;background-color: #f0f8ff;border: 1px dotted black;border-radius: 0.25em;box-sizing: border-box;margin-bottom: 0.5em;}#sk-container-id-4 div.sk-estimator:hover {background-color: #d4ebff;}#sk-container-id-4 div.sk-parallel-item::after {content: \"\";width: 100%;border-bottom: 1px solid gray;flex-grow: 1;}#sk-container-id-4 div.sk-label:hover label.sk-toggleable__label {background-color: #d4ebff;}#sk-container-id-4 div.sk-serial::before {content: \"\";position: absolute;border-left: 1px solid gray;box-sizing: border-box;top: 0;bottom: 0;left: 50%;z-index: 0;}#sk-container-id-4 div.sk-serial {display: flex;flex-direction: column;align-items: center;background-color: white;padding-right: 0.2em;padding-left: 0.2em;position: relative;}#sk-container-id-4 div.sk-item {position: relative;z-index: 1;}#sk-container-id-4 div.sk-parallel {display: flex;align-items: stretch;justify-content: center;background-color: white;position: relative;}#sk-container-id-4 div.sk-item::before, #sk-container-id-4 div.sk-parallel-item::before {content: \"\";position: absolute;border-left: 1px solid gray;box-sizing: border-box;top: 0;bottom: 0;left: 50%;z-index: -1;}#sk-container-id-4 div.sk-parallel-item {display: flex;flex-direction: column;z-index: 1;position: relative;background-color: white;}#sk-container-id-4 div.sk-parallel-item:first-child::after {align-self: flex-end;width: 50%;}#sk-container-id-4 div.sk-parallel-item:last-child::after {align-self: flex-start;width: 50%;}#sk-container-id-4 div.sk-parallel-item:only-child::after {width: 0;}#sk-container-id-4 div.sk-dashed-wrapped {border: 1px dashed gray;margin: 0 0.4em 0.5em 0.4em;box-sizing: border-box;padding-bottom: 0.4em;background-color: white;}#sk-container-id-4 div.sk-label label {font-family: monospace;font-weight: bold;display: inline-block;line-height: 1.2em;}#sk-container-id-4 div.sk-label-container {text-align: center;}#sk-container-id-4 div.sk-container {/* jupyter's `normalize.less` sets `[hidden] { display: none; }` but bootstrap.min.css set `[hidden] { display: none !important; }` so we also need the `!important` here to be able to override the default hidden behavior on the sphinx rendered scikit-learn.org. See: https://github.com/scikit-learn/scikit-learn/issues/21755 */display: inline-block !important;position: relative;}#sk-container-id-4 div.sk-text-repr-fallback {display: none;}</style><div id=\"sk-container-id-4\" class=\"sk-top-container\"><div class=\"sk-text-repr-fallback\"><pre>RandomizedSearchCV(cv=5, error_score=&#x27;raise&#x27;,\n",
       "                   estimator=RandomForestClassifier(), n_iter=50, n_jobs=-1,\n",
       "                   param_distributions={&#x27;bootstrap&#x27;: [True, False],\n",
       "                                        &#x27;max_depth&#x27;: [10, 21, 32, 43, 54, 65,\n",
       "                                                      76, 87, 98, 110, None],\n",
       "                                        &#x27;max_features&#x27;: [&#x27;auto&#x27;, &#x27;sqrt&#x27;],\n",
       "                                        &#x27;min_samples_leaf&#x27;: [1, 2, 4],\n",
       "                                        &#x27;min_samples_split&#x27;: [2, 5, 10],\n",
       "                                        &#x27;n_estimators&#x27;: [100, 122, 144, 166,\n",
       "                                                         188, 211, 233, 255,\n",
       "                                                         277, 300]},\n",
       "                   random_state=42, scoring=&#x27;f1&#x27;, verbose=2)</pre><b>In a Jupyter environment, please rerun this cell to show the HTML representation or trust the notebook. <br />On GitHub, the HTML representation is unable to render, please try loading this page with nbviewer.org.</b></div><div class=\"sk-container\" hidden><div class=\"sk-item sk-dashed-wrapped\"><div class=\"sk-label-container\"><div class=\"sk-label sk-toggleable\"><input class=\"sk-toggleable__control sk-hidden--visually\" id=\"sk-estimator-id-10\" type=\"checkbox\" ><label for=\"sk-estimator-id-10\" class=\"sk-toggleable__label sk-toggleable__label-arrow\">RandomizedSearchCV</label><div class=\"sk-toggleable__content\"><pre>RandomizedSearchCV(cv=5, error_score=&#x27;raise&#x27;,\n",
       "                   estimator=RandomForestClassifier(), n_iter=50, n_jobs=-1,\n",
       "                   param_distributions={&#x27;bootstrap&#x27;: [True, False],\n",
       "                                        &#x27;max_depth&#x27;: [10, 21, 32, 43, 54, 65,\n",
       "                                                      76, 87, 98, 110, None],\n",
       "                                        &#x27;max_features&#x27;: [&#x27;auto&#x27;, &#x27;sqrt&#x27;],\n",
       "                                        &#x27;min_samples_leaf&#x27;: [1, 2, 4],\n",
       "                                        &#x27;min_samples_split&#x27;: [2, 5, 10],\n",
       "                                        &#x27;n_estimators&#x27;: [100, 122, 144, 166,\n",
       "                                                         188, 211, 233, 255,\n",
       "                                                         277, 300]},\n",
       "                   random_state=42, scoring=&#x27;f1&#x27;, verbose=2)</pre></div></div></div><div class=\"sk-parallel\"><div class=\"sk-parallel-item\"><div class=\"sk-item\"><div class=\"sk-label-container\"><div class=\"sk-label sk-toggleable\"><input class=\"sk-toggleable__control sk-hidden--visually\" id=\"sk-estimator-id-11\" type=\"checkbox\" ><label for=\"sk-estimator-id-11\" class=\"sk-toggleable__label sk-toggleable__label-arrow\">estimator: RandomForestClassifier</label><div class=\"sk-toggleable__content\"><pre>RandomForestClassifier()</pre></div></div></div><div class=\"sk-serial\"><div class=\"sk-item\"><div class=\"sk-estimator sk-toggleable\"><input class=\"sk-toggleable__control sk-hidden--visually\" id=\"sk-estimator-id-12\" type=\"checkbox\" ><label for=\"sk-estimator-id-12\" class=\"sk-toggleable__label sk-toggleable__label-arrow\">RandomForestClassifier</label><div class=\"sk-toggleable__content\"><pre>RandomForestClassifier()</pre></div></div></div></div></div></div></div></div></div></div>"
      ],
      "text/plain": [
       "RandomizedSearchCV(cv=5, error_score='raise',\n",
       "                   estimator=RandomForestClassifier(), n_iter=50, n_jobs=-1,\n",
       "                   param_distributions={'bootstrap': [True, False],\n",
       "                                        'max_depth': [10, 21, 32, 43, 54, 65,\n",
       "                                                      76, 87, 98, 110, None],\n",
       "                                        'max_features': ['auto', 'sqrt'],\n",
       "                                        'min_samples_leaf': [1, 2, 4],\n",
       "                                        'min_samples_split': [2, 5, 10],\n",
       "                                        'n_estimators': [100, 122, 144, 166,\n",
       "                                                         188, 211, 233, 255,\n",
       "                                                         277, 300]},\n",
       "                   random_state=42, scoring='f1', verbose=2)"
      ]
     },
     "execution_count": 63,
     "metadata": {},
     "output_type": "execute_result"
    }
   ],
   "source": [
    "rf = RandomForestClassifier()\n",
    "rf_random = RandomizedSearchCV(estimator = rf, param_distributions = random_grid, n_iter = 50, scoring = 'f1', cv = 5, verbose=2, random_state=42, n_jobs = -1, error_score='raise')\n",
    "# Fit the random search model\n",
    "rf_random.fit(X_train_rfe, y_train)"
   ]
  },
  {
   "cell_type": "code",
   "execution_count": null,
   "metadata": {},
   "outputs": [
    {
     "name": "stdout",
     "output_type": "stream",
     "text": [
      "{'n_estimators': 122, 'min_samples_split': 2, 'min_samples_leaf': 1, 'max_features': 'sqrt', 'max_depth': 98, 'bootstrap': False}\n",
      "0.07327140362125067\n"
     ]
    }
   ],
   "source": [
    "print(rf_random.best_params_)\n",
    "print(rf_random.best_score_)"
   ]
  },
  {
   "cell_type": "code",
   "execution_count": 84,
   "metadata": {},
   "outputs": [
    {
     "name": "stdout",
     "output_type": "stream",
     "text": [
      "              precision    recall  f1-score   support\n",
      "\n",
      "           0       0.96      0.99      0.98      4321\n",
      "           1       0.17      0.04      0.06       179\n",
      "\n",
      "    accuracy                           0.95      4500\n",
      "   macro avg       0.57      0.52      0.52      4500\n",
      "weighted avg       0.93      0.95      0.94      4500\n",
      "\n",
      "Wynik ROC-AUC na zbiorze testowym:  0.7754800189796743\n",
      "Wynik ROC-AUC przez cross-validation:  0.753144928880608\n",
      "Wynik F1 przez cross-validation:  0.0698022819423614\n"
     ]
    }
   ],
   "source": [
    "clf = RandomForestClassifier( n_estimators = 122, min_samples_split = 2, min_samples_leaf = 1, max_features = 'sqrt', max_depth = 98, bootstrap = False)\n",
    "\n",
    "clf.fit(X_train_rfe, y_train)\n",
    "\n",
    "y_pred = clf.predict(X_test_rfe)\n",
    "y_pred_probs = clf.predict_proba(X_test_rfe)[:, 1]\n",
    "\n",
    "\n",
    "#Raport z wskaźnikami oceny modelu\n",
    "print(classification_report(y_test, y_pred))\n",
    "\n",
    "print(\"Wynik ROC-AUC na zbiorze testowym: \", roc_auc_score(y_test, y_pred_probs))\n",
    "\n",
    "scores = cross_val_score(clf, X_train_rfe, y_train, cv=5, scoring=\"roc_auc\").mean()\n",
    "print(\"Wynik ROC-AUC przez cross-validation: \", scores)\n",
    "\n",
    "scores = cross_val_score(clf, X_train_rfe, y_train, cv=5, scoring=\"f1\").mean()\n",
    "print(\"Wynik F1 przez cross-validation: \", scores)"
   ]
  },
  {
   "cell_type": "markdown",
   "metadata": {},
   "source": [
    "Jak widzimy metoda znajdowania hiperparametrów nie dała wyników lepszych niż Naive Bayes."
   ]
  },
  {
   "cell_type": "markdown",
   "metadata": {},
   "source": [
    "### Naszym zdaniem najlepsze wyniki otrzymaliśmy z modelu Naive Bayes dla preprocessingu RFE"
   ]
  }
 ],
 "metadata": {
  "colab": {
   "provenance": [
    {
     "file_id": "1EoDMNdvU0lNpz1dxVm-wDbml5DlpvLiV",
     "timestamp": 1681968894718
    },
    {
     "file_id": "10SFcnHbgRzzi9t5VxY1UpmKjV5RrSUaH",
     "timestamp": 1681218957520
    },
    {
     "file_id": "108wSrIGslXS3LXopUoIZoaKy5Eioe6-e",
     "timestamp": 1680973076345
    }
   ]
  },
  "kernelspec": {
   "display_name": "Python 3.11.0 64-bit",
   "language": "python",
   "name": "python3"
  },
  "language_info": {
   "codemirror_mode": {
    "name": "ipython",
    "version": 3
   },
   "file_extension": ".py",
   "mimetype": "text/x-python",
   "name": "python",
   "nbconvert_exporter": "python",
   "pygments_lexer": "ipython3",
   "version": "3.11.0"
  },
  "vscode": {
   "interpreter": {
    "hash": "c261aea317cc0286b3b3261fbba9abdec21eaa57589985bb7a274bf54d6cc0a7"
   }
  }
 },
 "nbformat": 4,
 "nbformat_minor": 1
}
